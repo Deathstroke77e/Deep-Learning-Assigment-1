{
  "cells": [
    {
      "cell_type": "markdown",
      "metadata": {
        "id": "oFKjXbxvtS_6"
      },
      "source": [
        "## ***Question 1***"
      ]
    },
    {
      "cell_type": "code",
      "execution_count": 7,
      "metadata": {
        "id": "pzyaM-IfXnk0"
      },
      "outputs": [],
      "source": [
        "import numpy as np\n",
        "import torch\n",
        "import matplotlib.pyplot as plt"
      ]
    },
    {
      "cell_type": "code",
      "execution_count": 8,
      "metadata": {
        "id": "9haU4RDliE3H"
      },
      "outputs": [],
      "source": [
        "import torchvision\n",
        "from torchvision import transforms, datasets\n",
        "from torch.utils.data import random_split"
      ]
    },
    {
      "cell_type": "code",
      "execution_count": 14,
      "metadata": {
        "colab": {
          "base_uri": "https://localhost:8080/",
          "height": 101,
          "referenced_widgets": [
            "f700b5b490fd4318a67abd2398e6b340",
            "ada450e23af1440f82c0dcf5f9f7dadf",
            "086491f31fed47c99f0f7313a1ddc1e5",
            "4fe9a5180b5f4c878b8b1d965a7fdd62",
            "269dd5de40cb44e8846474cb030c328a",
            "9bc9d5d7f6044428b741b53aece40d8c",
            "26e25c23335a49ac95ffc788ff08d733",
            "3a9bb7583aea4320b08731407064fa7b",
            "da4a2c2d3ab1432ea0050581afa28e3b",
            "afd451ed2de14938acf8c7482090499e",
            "cd8fc5753c124f06bb50efdcb36fb563"
          ]
        },
        "id": "W-fHS7U1iEvl",
        "outputId": "7b9f8011-0389-4215-ec7a-7c158984545b"
      },
      "outputs": [
        {
          "output_type": "stream",
          "name": "stdout",
          "text": [
            "Downloading https://www.cs.toronto.edu/~kriz/cifar-10-python.tar.gz to ./root/cifar-10-python.tar.gz\n"
          ]
        },
        {
          "output_type": "display_data",
          "data": {
            "text/plain": [
              "  0%|          | 0/170498071 [00:00<?, ?it/s]"
            ],
            "application/vnd.jupyter.widget-view+json": {
              "version_major": 2,
              "version_minor": 0,
              "model_id": "f700b5b490fd4318a67abd2398e6b340"
            }
          },
          "metadata": {}
        },
        {
          "output_type": "stream",
          "name": "stdout",
          "text": [
            "Extracting ./root/cifar-10-python.tar.gz to ./root\n",
            "Files already downloaded and verified\n"
          ]
        }
      ],
      "source": [
        "train=datasets.CIFAR10('./root',train=True,download=True,transform=transforms.Compose([transforms.Grayscale(),transforms.ToTensor(),transforms.Normalize((.5),(.5))]))\n",
        "test=datasets.CIFAR10('./root',train=False,download=True,transform=transforms.Compose([transforms.Grayscale(),transforms.ToTensor(),transforms.Normalize((.5),(.5))]))"
      ]
    },
    {
      "cell_type": "code",
      "execution_count": 15,
      "metadata": {
        "colab": {
          "base_uri": "https://localhost:8080/"
        },
        "id": "qrOUOJh_DFbh",
        "outputId": "1b54c207-9f8f-4dbe-80e9-2ebd46484f6c"
      },
      "outputs": [
        {
          "output_type": "execute_result",
          "data": {
            "text/plain": [
              "(tensor([[[-0.5216, -0.6471, -0.6235,  ...,  0.0745,  0.0196,  0.0118],\n",
              "          [-0.8510, -1.0000, -0.9216,  ..., -0.2549, -0.2941, -0.2627],\n",
              "          [-0.8118, -0.9294, -0.7569,  ..., -0.2941, -0.2863, -0.3725],\n",
              "          ...,\n",
              "          [ 0.3569,  0.2078,  0.2314,  ...,  0.0510, -0.7176, -0.7020],\n",
              "          [ 0.1451,  0.0118,  0.1294,  ...,  0.2000, -0.4588, -0.5294],\n",
              "          [ 0.1843,  0.0745,  0.1529,  ...,  0.4824, -0.0275, -0.2235]]]), 6)"
            ]
          },
          "metadata": {},
          "execution_count": 15
        }
      ],
      "source": [
        "train[0]"
      ]
    },
    {
      "cell_type": "code",
      "execution_count": 16,
      "metadata": {
        "id": "qbI1iGKxGiYN"
      },
      "outputs": [],
      "source": [
        "batch_size=16"
      ]
    },
    {
      "cell_type": "code",
      "execution_count": 17,
      "metadata": {
        "id": "ei0jqVaUio5f"
      },
      "outputs": [],
      "source": [
        "trainset = torch.utils.data.DataLoader(train, batch_size, shuffle=True)\n",
        "testset = torch.utils.data.DataLoader(test, batch_size, shuffle=False)"
      ]
    },
    {
      "cell_type": "code",
      "execution_count": 18,
      "metadata": {
        "id": "8FMot0nWi8jg"
      },
      "outputs": [],
      "source": [
        "import torch.nn as nn\n",
        "import torch.nn.functional as F"
      ]
    },
    {
      "cell_type": "markdown",
      "metadata": {
        "id": "gylfubx5QkTM"
      },
      "source": [
        "Neural Network using Sigmoid Activation Function"
      ]
    },
    {
      "cell_type": "code",
      "execution_count": 19,
      "metadata": {
        "id": "Q4WHE-TLKHbC"
      },
      "outputs": [],
      "source": [
        "S=nn.Sigmoid()\n",
        "class NNet_si(nn.Module):\n",
        "  def __init__(self):\n",
        "    super().__init__()\n",
        "    self.fc2=nn.Linear(1024,128)        # It has 2 hidden layers\n",
        "    self.fc3=nn.Linear(128,128)\n",
        "    self.fc4=nn.Linear(128,10)\n",
        "\n",
        "  def forward(self,input):\n",
        "    out=input.view(input.size(0),-1)\n",
        "    out = self.fc2(out)\n",
        "    out = S(out)\n",
        "    out = self.fc3(out)\n",
        "    out = S(out)\n",
        "    out = self.fc4(out)\n",
        "    return S(out)     \n",
        "nets=NNet_si()\n"
      ]
    },
    {
      "cell_type": "code",
      "execution_count": 20,
      "metadata": {
        "id": "6aVYQ8H-QxLz"
      },
      "outputs": [],
      "source": [
        "import torch.optim as optim\n",
        "optimizers = optim.Adam(nets.parameters(), lr=0.001)    # Using adam as optimizer\n",
        "loss_fx=nn.CrossEntropyLoss()               # Using cross entropy loss "
      ]
    },
    {
      "cell_type": "markdown",
      "metadata": {
        "id": "2BmLIpcPQ3X1"
      },
      "source": [
        "Neural Network using Tanh Activation function"
      ]
    },
    {
      "cell_type": "code",
      "execution_count": null,
      "metadata": {
        "id": "QLA2MAWnYBeT"
      },
      "outputs": [],
      "source": [
        "H=nn.Tanh()\n",
        "class NNet_tanh(nn.Module):\n",
        "  def __init__(self):\n",
        "    super().__init__()\n",
        "    self.fc2=nn.Linear(1024,128)\n",
        "    self.fc3=nn.Linear(128,128)\n",
        "    self.fc4=nn.Linear(128,10)\n",
        "\n",
        "  def forward(self,input):\n",
        "    out=input.view(input.size(0),-1)\n",
        "    out = self.fc2(out)\n",
        "    out = H(out)\n",
        "    out = self.fc3(out)\n",
        "    out = H(out)\n",
        "    out = self.fc4(out)\n",
        "    return H(out)\n",
        "nett=NNet_tanh()\n"
      ]
    },
    {
      "cell_type": "code",
      "source": [
        "import torch.optim as optim\n",
        "optimizert = optim.Adam(nett.parameters(), lr=0.001)    # Using adam as optimizer\n",
        "loss_fx=nn.CrossEntropyLoss()               # Using cross entropy loss "
      ],
      "metadata": {
        "id": "CxKyoxKarRx2"
      },
      "execution_count": null,
      "outputs": []
    },
    {
      "cell_type": "markdown",
      "metadata": {
        "id": "O_lo6GXmRcUz"
      },
      "source": [
        "Training and accuracy using Sigmoid function"
      ]
    },
    {
      "cell_type": "code",
      "execution_count": null,
      "metadata": {
        "colab": {
          "base_uri": "https://localhost:8080/",
          "height": 425
        },
        "id": "N8nahzGHR0EZ",
        "outputId": "57fd6d6e-3448-4c4f-807e-e6e6e4a2ecde"
      },
      "outputs": [
        {
          "output_type": "stream",
          "name": "stdout",
          "text": [
            "tensor(1.8301, grad_fn=<NllLossBackward0>)\n",
            "tensor(1.8817, grad_fn=<NllLossBackward0>)\n",
            "tensor(1.7747, grad_fn=<NllLossBackward0>)\n",
            "tensor(1.8214, grad_fn=<NllLossBackward0>)\n",
            "tensor(1.7837, grad_fn=<NllLossBackward0>)\n",
            "tensor(1.7170, grad_fn=<NllLossBackward0>)\n",
            "tensor(1.7423, grad_fn=<NllLossBackward0>)\n",
            "tensor(1.8308, grad_fn=<NllLossBackward0>)\n",
            "tensor(1.7698, grad_fn=<NllLossBackward0>)\n"
          ]
        },
        {
          "output_type": "display_data",
          "data": {
            "text/plain": [
              "<Figure size 432x288 with 1 Axes>"
            ],
            "image/png": "[encoded data removed]"
          },
          "metadata": {
            "needs_background": "light"
          }
        }
      ],
      "source": [
        "for epoch in range(3):                        \n",
        "  for x,y in trainset:\n",
        "       nets.zero_grad()                                  # Here loss value after every epoch is not decreasing.\n",
        "       output=nets(x)\n",
        "       loss = loss_fx(output, y) \n",
        "       loss.backward() \n",
        "       optimizers.step()\n",
        "  for para in nets.parameters():              \n",
        "    plt.plot(para.grad)\n",
        "  print(loss) "
      ]
    },
    {
      "cell_type": "code",
      "execution_count": null,
      "metadata": {
        "colab": {
          "base_uri": "https://localhost:8080/"
        },
        "id": "_0arksYGRDab",
        "outputId": "8e74d675-1eac-4395-890a-eabe12b6b13b"
      },
      "outputs": [
        {
          "output_type": "stream",
          "name": "stdout",
          "text": [
            "tensor(-2.2667e-05)\n",
            "tensor(9.1036e-05)\n",
            "tensor(-0.0001)\n",
            "tensor(-0.0002)\n",
            "tensor(0.0011)\n",
            "tensor(0.0027)\n"
          ]
        }
      ],
      "source": [
        "for para in nets.parameters():              # Using sigmoid activation gradients in each layer is very low\n",
        "  grad=para.grad\n",
        "  print(torch.mean(grad))"
      ]
    },
    {
      "cell_type": "code",
      "source": [
        "correct=0\n",
        "with torch.no_grad():\n",
        "    for data in trainset:\n",
        "        X, y = data\n",
        "        output = nets(X)                            # Accuracy on train set\n",
        "        for idx, i in enumerate(output):\n",
        "            if torch.argmax(i) == y[idx]:\n",
        "                correct = correct + 1\n",
        "print(\"Accuracy: \", round(correct/45000, 3))"
      ],
      "metadata": {
        "colab": {
          "base_uri": "https://localhost:8080/"
        },
        "id": "p9SERNlLkdSf",
        "outputId": "780cbb55-2639-43ef-d13f-6dc12db8efcb"
      },
      "execution_count": null,
      "outputs": [
        {
          "output_type": "stream",
          "name": "stdout",
          "text": [
            "Accuracy:  0.493\n"
          ]
        }
      ]
    },
    {
      "cell_type": "code",
      "execution_count": null,
      "metadata": {
        "colab": {
          "base_uri": "https://localhost:8080/"
        },
        "id": "gaPO5sHaRtS9",
        "outputId": "d806fd89-033e-4b51-dd58-ad94e33e67fd"
      },
      "outputs": [
        {
          "output_type": "stream",
          "name": "stdout",
          "text": [
            "Accuracy:  0.37\n"
          ]
        }
      ],
      "source": [
        "correct=0\n",
        "with torch.no_grad():\n",
        "    for data in testset:\n",
        "        X, y = data                                 # Accuracy on testset\n",
        "        output = nets(X)                            #Accuracy is very low as gradients are very close to 0\n",
        "        for idx, i in enumerate(output):\n",
        "            if torch.argmax(i) == y[idx]:\n",
        "                correct = correct + 1\n",
        "print(\"Accuracy: \", round(correct/10000, 3))"
      ]
    },
    {
      "cell_type": "markdown",
      "metadata": {
        "id": "9x5J6_24WSFx"
      },
      "source": [
        "Traning and accuracy using TanH function"
      ]
    },
    {
      "cell_type": "code",
      "execution_count": null,
      "metadata": {
        "colab": {
          "base_uri": "https://localhost:8080/"
        },
        "id": "bA0tIlpzYn3x",
        "outputId": "e41561b8-09b8-4bb2-be5b-3211ab20be4a"
      },
      "outputs": [
        {
          "output_type": "stream",
          "name": "stdout",
          "text": [
            "tensor(1.6794, grad_fn=<NllLossBackward0>)\n",
            "tensor(1.8993, grad_fn=<NllLossBackward0>)\n",
            "tensor(1.5848, grad_fn=<NllLossBackward0>)\n"
          ]
        }
      ],
      "source": [
        "for epoch in range(9):\n",
        "  for x,y in trainset:\n",
        "       nett.zero_grad()\n",
        "       output=nett(x)\n",
        "       loss = loss_fx(output, y) \n",
        "       loss.backward() \n",
        "       optimizert.step()\n",
        "  for para in nets.parameters():              \n",
        "    plt.plot(para.grad)\n",
        "  print(loss) "
      ]
    },
    {
      "cell_type": "code",
      "execution_count": null,
      "metadata": {
        "colab": {
          "base_uri": "https://localhost:8080/"
        },
        "id": "-ERdXrh5RGMy",
        "outputId": "50a855f3-bd77-46e7-b72d-c3e29c63e8fb"
      },
      "outputs": [
        {
          "output_type": "stream",
          "name": "stdout",
          "text": [
            "tensor(3.3369e-05)\n",
            "tensor(-0.0003)\n",
            "tensor(-5.8707e-05)\n",
            "tensor(-0.0003)\n",
            "tensor(-0.0004)\n",
            "tensor(0.0104)\n"
          ]
        }
      ],
      "source": [
        "for para in nett.parameters():            # Gradients are of similar range as in simgoid activation function\n",
        "  grad=para.grad\n",
        "  print(torch.mean(grad))"
      ]
    },
    {
      "cell_type": "code",
      "source": [
        "correct=0\n",
        "with torch.no_grad():\n",
        "    for data in trainset:\n",
        "        X, y = data\n",
        "        output = nett(X)                            # Accuracy on train set\n",
        "        for idx, i in enumerate(output):\n",
        "            if torch.argmax(i) == y[idx]:\n",
        "                correct = correct + 1\n",
        "print(\"Accuracy: \", round(correct/45000, 3))"
      ],
      "metadata": {
        "colab": {
          "base_uri": "https://localhost:8080/"
        },
        "id": "ADlk3chklMNF",
        "outputId": "a6204b2a-f41a-42b3-cbe2-27610f10e649"
      },
      "execution_count": null,
      "outputs": [
        {
          "output_type": "stream",
          "name": "stdout",
          "text": [
            "Accuracy:  0.426\n"
          ]
        }
      ]
    },
    {
      "cell_type": "code",
      "execution_count": null,
      "metadata": {
        "colab": {
          "base_uri": "https://localhost:8080/"
        },
        "id": "0qaqbDYmUTWc",
        "outputId": "c72855e8-fe46-4943-f4b7-974ced0f9d20"
      },
      "outputs": [
        {
          "output_type": "stream",
          "name": "stdout",
          "text": [
            "Accuracy:  0.355\n"
          ]
        }
      ],
      "source": [
        "correct=0\n",
        "with torch.no_grad():\n",
        "    for data in testset:                              # Accuracy on test set\n",
        "        X, y = data\n",
        "        output = nett(X)\n",
        "        for idx, i in enumerate(output):\n",
        "            if torch.argmax(i) == y[idx]:\n",
        "                correct = correct + 1\n",
        "print(\"Accuracy: \", round(correct/10000, 3))"
      ]
    },
    {
      "cell_type": "markdown",
      "metadata": {
        "id": "MwFMWMIipatA"
      },
      "source": [
        "Using Relu to rectify vanishing gradient problem"
      ]
    },
    {
      "cell_type": "code",
      "execution_count": null,
      "metadata": {
        "id": "kNbaiIPYpjjz"
      },
      "outputs": [],
      "source": [
        "class Relu(nn.Module):\n",
        "  def __init__(self):\n",
        "    super().__init__()\n",
        "    self.fc5=nn.Linear(1024,128)\n",
        "    self.fc6=nn.Linear(128,128)\n",
        "    self.fc9=nn.Linear(128,10)\n",
        "\n",
        "  def forward(self,input):\n",
        "    out=input.view(input.size(0),-1)\n",
        "    out = self.fc5(out)\n",
        "    out = F.relu(out)\n",
        "    out = self.fc6(out)\n",
        "    out = F.relu(out)\n",
        "    out = self.fc9(out)\n",
        "    return F.log_softmax(out)\n",
        "relu=Relu()"
      ]
    },
    {
      "cell_type": "code",
      "source": [
        "import torch.optim as optim\n",
        "optimizersr = optim.Adam(relu.parameters(), lr=0.001)    # Using adam as optimizer\n",
        "loss_fx=nn.CrossEntropyLoss()               # Using cross entropy loss "
      ],
      "metadata": {
        "id": "l1A8ZIdYo5bQ"
      },
      "execution_count": null,
      "outputs": []
    },
    {
      "cell_type": "code",
      "execution_count": null,
      "metadata": {
        "colab": {
          "base_uri": "https://localhost:8080/"
        },
        "id": "lD_J50oiqMIF",
        "outputId": "52125b7c-45d8-4261-97cc-a7c0802ab688"
      },
      "outputs": [
        {
          "output_type": "stream",
          "name": "stderr",
          "text": [
            "<ipython-input-81-d05976aae659>:15: UserWarning: Implicit dimension choice for log_softmax has been deprecated. Change the call to include dim=X as an argument.\n",
            "  return F.log_softmax(out)\n"
          ]
        },
        {
          "output_type": "stream",
          "name": "stdout",
          "text": [
            "tensor(1.4691, grad_fn=<NllLossBackward0>)\n",
            "tensor(1.5575, grad_fn=<NllLossBackward0>)\n",
            "tensor(2.1923, grad_fn=<NllLossBackward0>)\n"
          ]
        }
      ],
      "source": [
        "for epoch in range(3):\n",
        "  for x,y in trainset:\n",
        "       relu.zero_grad()\n",
        "       output=relu(x)\n",
        "       loss = loss_fx(output, y) \n",
        "       loss.backward() \n",
        "       optimizersr.step()\n",
        "  print(loss) "
      ]
    },
    {
      "cell_type": "code",
      "execution_count": null,
      "metadata": {
        "colab": {
          "base_uri": "https://localhost:8080/"
        },
        "id": "6e7WQgUpqY4s",
        "outputId": "d9878ae3-8b99-456c-9e74-c66d7d27dc42"
      },
      "outputs": [
        {
          "output_type": "stream",
          "name": "stdout",
          "text": [
            "tensor(1.7928e-05)\n",
            "tensor(0.0002)\n",
            "tensor(0.0014)\n",
            "tensor(0.0011)\n",
            "tensor(2.4772e-11)\n",
            "tensor(1.8626e-10)\n"
          ]
        }
      ],
      "source": [
        "for para in relu.parameters():\n",
        "  grad=para.grad                            # Gradients values have increased \n",
        "  print(torch.mean(grad))"
      ]
    },
    {
      "cell_type": "code",
      "source": [
        "correct=0\n",
        "with torch.no_grad():\n",
        "    for data in trainset:                              \n",
        "        X, y = data                                            # Accuracy has significantly increased\n",
        "        output = relu(X)\n",
        "        for idx, i in enumerate(output):\n",
        "            if torch.argmax(i) == y[idx]:\n",
        "                correct = correct + 1\n",
        "print(\"Accuracy: \", round(correct/45000, 3))"
      ],
      "metadata": {
        "colab": {
          "base_uri": "https://localhost:8080/"
        },
        "id": "DxwJxerotYwl",
        "outputId": "ce900b17-7a4b-49de-be51-6a5028d476ff"
      },
      "execution_count": null,
      "outputs": [
        {
          "output_type": "stream",
          "name": "stderr",
          "text": [
            "<ipython-input-81-d05976aae659>:15: UserWarning: Implicit dimension choice for log_softmax has been deprecated. Change the call to include dim=X as an argument.\n",
            "  return F.log_softmax(out)\n"
          ]
        },
        {
          "output_type": "stream",
          "name": "stdout",
          "text": [
            "Accuracy:  0.522\n"
          ]
        }
      ]
    },
    {
      "cell_type": "code",
      "execution_count": null,
      "metadata": {
        "colab": {
          "base_uri": "https://localhost:8080/"
        },
        "id": "wJHtI56Lq2yt",
        "outputId": "787d8ff9-171d-4d78-dc6b-21dd678f9dc4"
      },
      "outputs": [
        {
          "output_type": "stream",
          "name": "stderr",
          "text": [
            "<ipython-input-81-d05976aae659>:15: UserWarning: Implicit dimension choice for log_softmax has been deprecated. Change the call to include dim=X as an argument.\n",
            "  return F.log_softmax(out)\n"
          ]
        },
        {
          "output_type": "stream",
          "name": "stdout",
          "text": [
            "Accuracy:  0.419\n"
          ]
        }
      ],
      "source": [
        "correct=0\n",
        "with torch.no_grad():\n",
        "    for data in testset:                              \n",
        "        X, y = data\n",
        "        output = relu(X)\n",
        "        for idx, i in enumerate(output):\n",
        "            if torch.argmax(i) == y[idx]:\n",
        "                correct = correct + 1\n",
        "print(\"Accuracy: \", round(correct/10000, 3))"
      ]
    },
    {
      "cell_type": "markdown",
      "metadata": {
        "id": "OKpEXq-tvgz5"
      },
      "source": [
        "## ***Question 2***"
      ]
    },
    {
      "cell_type": "code",
      "execution_count": null,
      "metadata": {
        "colab": {
          "base_uri": "https://localhost:8080/"
        },
        "id": "Opw2e7TWvmNI",
        "outputId": "88658081-aaaa-4553-cd44-2b546944acc3"
      },
      "outputs": [
        {
          "output_type": "stream",
          "name": "stdout",
          "text": [
            "Archive:  /content/drive/MyDrive/GurNum-20230125T181437Z-001.zip\n",
            "  inflating: /content/drive/MyDrive/GurNum1/GurNum/val/6/17.tiff  \n",
            "  inflating: /content/drive/MyDrive/GurNum1/GurNum/val/6/13.tiff  \n",
            "  inflating: /content/drive/MyDrive/GurNum1/GurNum/val/6/14.tiff  \n",
            "  inflating: /content/drive/MyDrive/GurNum1/GurNum/val/6/15.tiff  \n",
            "  inflating: /content/drive/MyDrive/GurNum1/GurNum/val/6/11.tiff  \n",
            "  inflating: /content/drive/MyDrive/GurNum1/GurNum/val/6/2.tiff  \n",
            "  inflating: /content/drive/MyDrive/GurNum1/GurNum/val/6/7.tiff  \n",
            "  inflating: /content/drive/MyDrive/GurNum1/GurNum/val/6/12.tiff  \n",
            "  inflating: /content/drive/MyDrive/GurNum1/GurNum/val/6/5.tiff  \n",
            "  inflating: /content/drive/MyDrive/GurNum1/GurNum/val/6/20.tiff  \n",
            "  inflating: /content/drive/MyDrive/GurNum1/GurNum/val/6/19.tiff  \n",
            "  inflating: /content/drive/MyDrive/GurNum1/GurNum/val/6/16.tiff  \n",
            "  inflating: /content/drive/MyDrive/GurNum1/GurNum/val/2/9.tiff  \n",
            "  inflating: /content/drive/MyDrive/GurNum1/GurNum/val/5/14.tiff  \n",
            "  inflating: /content/drive/MyDrive/GurNum1/GurNum/val/6/1.tiff  \n",
            "  inflating: /content/drive/MyDrive/GurNum1/GurNum/val/6/10.tiff  \n",
            "  inflating: /content/drive/MyDrive/GurNum1/GurNum/val/2/5.tiff  \n",
            "  inflating: /content/drive/MyDrive/GurNum1/GurNum/val/2/13.tiff  \n",
            "  inflating: /content/drive/MyDrive/GurNum1/GurNum/val/6/9.tiff  \n",
            "  inflating: /content/drive/MyDrive/GurNum1/GurNum/val/2/1.tiff  \n",
            "  inflating: /content/drive/MyDrive/GurNum1/GurNum/val/2/4.tiff  \n",
            "  inflating: /content/drive/MyDrive/GurNum1/GurNum/val/5/13.tiff  \n",
            "  inflating: /content/drive/MyDrive/GurNum1/GurNum/val/2/3.tiff  \n",
            "  inflating: /content/drive/MyDrive/GurNum1/GurNum/val/2/20.tiff  \n",
            "  inflating: /content/drive/MyDrive/GurNum1/GurNum/val/2/18.tiff  \n",
            "  inflating: /content/drive/MyDrive/GurNum1/GurNum/val/5/9.tiff  \n",
            "  inflating: /content/drive/MyDrive/GurNum1/GurNum/val/6/8.tiff  \n",
            "  inflating: /content/drive/MyDrive/GurNum1/GurNum/val/2/11.tiff  \n",
            "  inflating: /content/drive/MyDrive/GurNum1/GurNum/val/5/19.tiff  \n",
            "  inflating: /content/drive/MyDrive/GurNum1/GurNum/val/2/19.tiff  \n",
            "  inflating: /content/drive/MyDrive/GurNum1/GurNum/val/5/8.tiff  \n",
            "  inflating: /content/drive/MyDrive/GurNum1/GurNum/val/5/4.tiff  \n",
            "  inflating: /content/drive/MyDrive/GurNum1/GurNum/val/5/6.tiff  \n",
            "  inflating: /content/drive/MyDrive/GurNum1/GurNum/val/2/7.tiff  \n",
            "  inflating: /content/drive/MyDrive/GurNum1/GurNum/val/5/2.tiff  \n",
            "  inflating: /content/drive/MyDrive/GurNum1/GurNum/val/6/6.tiff  \n",
            "  inflating: /content/drive/MyDrive/GurNum1/GurNum/val/2/2.tiff  \n",
            "  inflating: /content/drive/MyDrive/GurNum1/GurNum/val/6/3.tiff  \n",
            "  inflating: /content/drive/MyDrive/GurNum1/GurNum/val/5/10.tiff  \n",
            "  inflating: /content/drive/MyDrive/GurNum1/GurNum/val/5/5.tiff  \n",
            "  inflating: /content/drive/MyDrive/GurNum1/GurNum/val/2/10.tiff  \n",
            "  inflating: /content/drive/MyDrive/GurNum1/GurNum/val/5/17.tiff  \n",
            "  inflating: /content/drive/MyDrive/GurNum1/GurNum/val/1/6.tiff  \n",
            "  inflating: /content/drive/MyDrive/GurNum1/GurNum/val/5/16.tiff  \n",
            "  inflating: /content/drive/MyDrive/GurNum1/GurNum/val/2/12.tiff  \n",
            "  inflating: /content/drive/MyDrive/GurNum1/GurNum/val/1/5.tiff  \n",
            "  inflating: /content/drive/MyDrive/GurNum1/GurNum/val/5/7.tiff  \n",
            "  inflating: /content/drive/MyDrive/GurNum1/GurNum/val/1/19.tiff  \n",
            "  inflating: /content/drive/MyDrive/GurNum1/GurNum/val/2/14.tiff  \n",
            "  inflating: /content/drive/MyDrive/GurNum1/GurNum/val/1/3.tiff  \n",
            "  inflating: /content/drive/MyDrive/GurNum1/GurNum/val/5/1.tiff  \n",
            "  inflating: /content/drive/MyDrive/GurNum1/GurNum/val/1/18.tiff  \n",
            "  inflating: /content/drive/MyDrive/GurNum1/GurNum/val/1/11.tiff  \n",
            "  inflating: /content/drive/MyDrive/GurNum1/GurNum/val/1/12.tiff  \n",
            "  inflating: /content/drive/MyDrive/GurNum1/GurNum/val/1/13.tiff  \n",
            "  inflating: /content/drive/MyDrive/GurNum1/GurNum/val/1/2.tiff  \n",
            "  inflating: /content/drive/MyDrive/GurNum1/GurNum/val/1/8.tiff  \n",
            "  inflating: /content/drive/MyDrive/GurNum1/GurNum/val/3/19.tiff  \n",
            "  inflating: /content/drive/MyDrive/GurNum1/GurNum/val/5/20.tiff  \n",
            "  inflating: /content/drive/MyDrive/GurNum1/GurNum/val/1/17.tiff  \n",
            "  inflating: /content/drive/MyDrive/GurNum1/GurNum/val/1/16.tiff  \n",
            "  inflating: /content/drive/MyDrive/GurNum1/GurNum/val/2/16.tiff  \n",
            "  inflating: /content/drive/MyDrive/GurNum1/GurNum/val/5/18.tiff  \n",
            "  inflating: /content/drive/MyDrive/GurNum1/GurNum/val/1/1.tiff  \n",
            "  inflating: /content/drive/MyDrive/GurNum1/GurNum/val/1/7.tiff  \n",
            "  inflating: /content/drive/MyDrive/GurNum1/GurNum/val/3/17.tiff  \n",
            "  inflating: /content/drive/MyDrive/GurNum1/GurNum/val/3/3.tiff  \n",
            "  inflating: /content/drive/MyDrive/GurNum1/GurNum/val/3/18.tiff  \n",
            "  inflating: /content/drive/MyDrive/GurNum1/GurNum/val/3/8.tiff  \n",
            "  inflating: /content/drive/MyDrive/GurNum1/GurNum/val/3/11.tiff  \n",
            "  inflating: /content/drive/MyDrive/GurNum1/GurNum/val/5/12.tiff  \n",
            "  inflating: /content/drive/MyDrive/GurNum1/GurNum/val/3/1.tiff  \n",
            "  inflating: /content/drive/MyDrive/GurNum1/GurNum/val/9/7.bmp  \n",
            "  inflating: /content/drive/MyDrive/GurNum1/GurNum/val/3/5.tiff  \n",
            "  inflating: /content/drive/MyDrive/GurNum1/GurNum/val/1/10.tiff  \n",
            "  inflating: /content/drive/MyDrive/GurNum1/GurNum/val/3/14.tiff  \n",
            "  inflating: /content/drive/MyDrive/GurNum1/GurNum/val/3/12.tiff  \n",
            "  inflating: /content/drive/MyDrive/GurNum1/GurNum/val/9/5.bmp  \n",
            "  inflating: /content/drive/MyDrive/GurNum1/GurNum/val/3/9.tiff  \n",
            "  inflating: /content/drive/MyDrive/GurNum1/GurNum/val/3/10.tiff  \n",
            "  inflating: /content/drive/MyDrive/GurNum1/GurNum/val/9/4.bmp  \n",
            "  inflating: /content/drive/MyDrive/GurNum1/GurNum/val/3/20.tiff  \n",
            "  inflating: /content/drive/MyDrive/GurNum1/GurNum/val/1/9.tiff  \n",
            "  inflating: /content/drive/MyDrive/GurNum1/GurNum/val/9/19.bmp  \n",
            "  inflating: /content/drive/MyDrive/GurNum1/GurNum/val/9/18.bmp  \n",
            "  inflating: /content/drive/MyDrive/GurNum1/GurNum/val/9/13.bmp  \n",
            "  inflating: /content/drive/MyDrive/GurNum1/GurNum/val/3/4.tiff  \n",
            "  inflating: /content/drive/MyDrive/GurNum1/GurNum/val/9/12.bmp  \n",
            "  inflating: /content/drive/MyDrive/GurNum1/GurNum/val/9/2.bmp  \n",
            "  inflating: /content/drive/MyDrive/GurNum1/GurNum/val/9/1.bmp  \n",
            "  inflating: /content/drive/MyDrive/GurNum1/GurNum/val/9/20.bmp  \n",
            "  inflating: /content/drive/MyDrive/GurNum1/GurNum/val/9/15.bmp  \n",
            "  inflating: /content/drive/MyDrive/GurNum1/GurNum/val/9/17.bmp  \n",
            "  inflating: /content/drive/MyDrive/GurNum1/GurNum/val/3/7.tiff  \n",
            "  inflating: /content/drive/MyDrive/GurNum1/GurNum/val/9/6.bmp  \n",
            "  inflating: /content/drive/MyDrive/GurNum1/GurNum/val/9/16.bmp  \n",
            "  inflating: /content/drive/MyDrive/GurNum1/GurNum/val/3/13.tiff  \n",
            "  inflating: /content/drive/MyDrive/GurNum1/GurNum/val/9/14.bmp  \n",
            "  inflating: /content/drive/MyDrive/GurNum1/GurNum/val/0/6.tiff  \n",
            "  inflating: /content/drive/MyDrive/GurNum1/GurNum/val/9/9.bmp  \n",
            "  inflating: /content/drive/MyDrive/GurNum1/GurNum/val/0/2.tiff  \n",
            "  inflating: /content/drive/MyDrive/GurNum1/GurNum/val/9/8.bmp  \n",
            "  inflating: /content/drive/MyDrive/GurNum1/GurNum/val/0/11.tiff  \n",
            "  inflating: /content/drive/MyDrive/GurNum1/GurNum/val/9/3.bmp  \n",
            "  inflating: /content/drive/MyDrive/GurNum1/GurNum/val/0/13.tiff  \n",
            "  inflating: /content/drive/MyDrive/GurNum1/GurNum/val/0/3.tiff  \n",
            "  inflating: /content/drive/MyDrive/GurNum1/GurNum/val/0/20.tiff  \n",
            "  inflating: /content/drive/MyDrive/GurNum1/GurNum/val/9/10.bmp  \n",
            "  inflating: /content/drive/MyDrive/GurNum1/GurNum/val/5/11.tiff  \n",
            "  inflating: /content/drive/MyDrive/GurNum1/GurNum/val/0/15.tiff  \n",
            "  inflating: /content/drive/MyDrive/GurNum1/GurNum/val/0/10.tiff  \n",
            "  inflating: /content/drive/MyDrive/GurNum1/GurNum/val/0/4.tiff  \n",
            "  inflating: /content/drive/MyDrive/GurNum1/GurNum/val/7/1.tiff  \n",
            "  inflating: /content/drive/MyDrive/GurNum1/GurNum/val/2/6.tiff  \n",
            "  inflating: /content/drive/MyDrive/GurNum1/GurNum/val/0/18.tiff  \n",
            "  inflating: /content/drive/MyDrive/GurNum1/GurNum/val/0/14.tiff  \n",
            "  inflating: /content/drive/MyDrive/GurNum1/GurNum/val/0/19.tiff  \n",
            "  inflating: /content/drive/MyDrive/GurNum1/GurNum/val/7/12.tiff  \n",
            "  inflating: /content/drive/MyDrive/GurNum1/GurNum/val/0/5.tiff  \n",
            "  inflating: /content/drive/MyDrive/GurNum1/GurNum/val/7/2.tiff  \n",
            "  inflating: /content/drive/MyDrive/GurNum1/GurNum/val/3/6.tiff  \n",
            "  inflating: /content/drive/MyDrive/GurNum1/GurNum/val/7/13.tiff  \n",
            "  inflating: /content/drive/MyDrive/GurNum1/GurNum/val/7/5.tiff  \n",
            "  inflating: /content/drive/MyDrive/GurNum1/GurNum/val/7/7.tiff  \n",
            "  inflating: /content/drive/MyDrive/GurNum1/GurNum/val/7/4.tiff  \n",
            "  inflating: /content/drive/MyDrive/GurNum1/GurNum/val/9/11.bmp  \n",
            "  inflating: /content/drive/MyDrive/GurNum1/GurNum/val/0/8.tiff  \n",
            "  inflating: /content/drive/MyDrive/GurNum1/GurNum/val/0/7.tiff  \n",
            "  inflating: /content/drive/MyDrive/GurNum1/GurNum/val/7/14.tiff  \n",
            "  inflating: /content/drive/MyDrive/GurNum1/GurNum/val/0/16.tiff  \n",
            "  inflating: /content/drive/MyDrive/GurNum1/GurNum/val/7/6.tiff  \n",
            "  inflating: /content/drive/MyDrive/GurNum1/GurNum/val/7/15.tiff  \n",
            "  inflating: /content/drive/MyDrive/GurNum1/GurNum/val/0/1.tiff  \n",
            "  inflating: /content/drive/MyDrive/GurNum1/GurNum/val/7/10.tiff  \n",
            "  inflating: /content/drive/MyDrive/GurNum1/GurNum/val/7/19.tiff  \n",
            "  inflating: /content/drive/MyDrive/GurNum1/GurNum/val/8/3.tiff  \n",
            "  inflating: /content/drive/MyDrive/GurNum1/GurNum/val/7/17.tiff  \n",
            "  inflating: /content/drive/MyDrive/GurNum1/GurNum/val/8/15.tiff  \n",
            "  inflating: /content/drive/MyDrive/GurNum1/GurNum/val/7/3.tiff  \n",
            "  inflating: /content/drive/MyDrive/GurNum1/GurNum/val/8/19.tiff  \n",
            "  inflating: /content/drive/MyDrive/GurNum1/GurNum/val/4/15.tiff  \n",
            "  inflating: /content/drive/MyDrive/GurNum1/GurNum/val/4/5.tiff  \n",
            "  inflating: /content/drive/MyDrive/GurNum1/GurNum/val/4/12.tiff  \n",
            "  inflating: /content/drive/MyDrive/GurNum1/GurNum/train/9/5.bmp  \n",
            "  inflating: /content/drive/MyDrive/GurNum1/GurNum/val/0/17.tiff  \n",
            "  inflating: /content/drive/MyDrive/GurNum1/GurNum/train/9/10.bmp  \n",
            "  inflating: /content/drive/MyDrive/GurNum1/GurNum/val/7/20.tiff  \n",
            "  inflating: /content/drive/MyDrive/GurNum1/GurNum/val/7/16.tiff  \n",
            "  inflating: /content/drive/MyDrive/GurNum1/GurNum/train/9/11.bmp  \n",
            "  inflating: /content/drive/MyDrive/GurNum1/GurNum/val/4/17.tiff  \n",
            "  inflating: /content/drive/MyDrive/GurNum1/GurNum/val/8/6.tiff  \n",
            "  inflating: /content/drive/MyDrive/GurNum1/GurNum/val/7/8.tiff  \n",
            "  inflating: /content/drive/MyDrive/GurNum1/GurNum/train/9/60.bmp  \n",
            "  inflating: /content/drive/MyDrive/GurNum1/GurNum/train/9/96.bmp  \n",
            "  inflating: /content/drive/MyDrive/GurNum1/GurNum/val/8/1.tiff  \n",
            "  inflating: /content/drive/MyDrive/GurNum1/GurNum/train/9/39.bmp  \n",
            "  inflating: /content/drive/MyDrive/GurNum1/GurNum/val/4/16.tiff  \n",
            "  inflating: /content/drive/MyDrive/GurNum1/GurNum/val/8/7.tiff  \n",
            "  inflating: /content/drive/MyDrive/GurNum1/GurNum/val/4/9.tiff  \n",
            "  inflating: /content/drive/MyDrive/GurNum1/GurNum/val/8/13.tiff  \n",
            "  inflating: /content/drive/MyDrive/GurNum1/GurNum/val/8/16.tiff  \n",
            "  inflating: /content/drive/MyDrive/GurNum1/GurNum/val/4/7.tiff  \n",
            "  inflating: /content/drive/MyDrive/GurNum1/GurNum/val/8/18.tiff  \n",
            "  inflating: /content/drive/MyDrive/GurNum1/GurNum/val/8/2.tiff  \n",
            "  inflating: /content/drive/MyDrive/GurNum1/GurNum/train/9/88.bmp  \n",
            "  inflating: /content/drive/MyDrive/GurNum1/GurNum/train/9/36.bmp  \n",
            "  inflating: /content/drive/MyDrive/GurNum1/GurNum/val/8/4.tiff  \n",
            "  inflating: /content/drive/MyDrive/GurNum1/GurNum/train/9/48.bmp  \n",
            "  inflating: /content/drive/MyDrive/GurNum1/GurNum/train/9/49.bmp  \n",
            "  inflating: /content/drive/MyDrive/GurNum1/GurNum/val/8/17.tiff  \n",
            "  inflating: /content/drive/MyDrive/GurNum1/GurNum/val/4/18.tiff  \n",
            "  inflating: /content/drive/MyDrive/GurNum1/GurNum/val/8/5.tiff  \n",
            "  inflating: /content/drive/MyDrive/GurNum1/GurNum/train/9/14.bmp  \n",
            "  inflating: /content/drive/MyDrive/GurNum1/GurNum/val/4/2.tiff  \n",
            "  inflating: /content/drive/MyDrive/GurNum1/GurNum/val/8/20.tiff  \n",
            "  inflating: /content/drive/MyDrive/GurNum1/GurNum/train/9/83.bmp  \n",
            "  inflating: /content/drive/MyDrive/GurNum1/GurNum/train/9/57.bmp  \n",
            "  inflating: /content/drive/MyDrive/GurNum1/GurNum/val/4/3.tiff  \n",
            "  inflating: /content/drive/MyDrive/GurNum1/GurNum/train/9/84.bmp  \n",
            "  inflating: /content/drive/MyDrive/GurNum1/GurNum/train/9/59.bmp  \n",
            "  inflating: /content/drive/MyDrive/GurNum1/GurNum/train/9/73.bmp  \n",
            "  inflating: /content/drive/MyDrive/GurNum1/GurNum/train/9/29.bmp  \n",
            "  inflating: /content/drive/MyDrive/GurNum1/GurNum/val/8/14.tiff  \n",
            "  inflating: /content/drive/MyDrive/GurNum1/GurNum/val/4/14.tiff  \n",
            "  inflating: /content/drive/MyDrive/GurNum1/GurNum/val/4/1.tiff  \n",
            "  inflating: /content/drive/MyDrive/GurNum1/GurNum/val/4/10.tiff  \n",
            "  inflating: /content/drive/MyDrive/GurNum1/GurNum/train/9/90.bmp  \n",
            "  inflating: /content/drive/MyDrive/GurNum1/GurNum/train/9/54.bmp  \n",
            "  inflating: /content/drive/MyDrive/GurNum1/GurNum/val/8/8.tiff  \n",
            "  inflating: /content/drive/MyDrive/GurNum1/GurNum/train/9/42.bmp  \n",
            "  inflating: /content/drive/MyDrive/GurNum1/GurNum/val/8/12.tiff  \n",
            "  inflating: /content/drive/MyDrive/GurNum1/GurNum/train/9/13.bmp  \n",
            "  inflating: /content/drive/MyDrive/GurNum1/GurNum/train/9/68.bmp  \n",
            "  inflating: /content/drive/MyDrive/GurNum1/GurNum/train/9/8.bmp  \n",
            "  inflating: /content/drive/MyDrive/GurNum1/GurNum/val/4/6.tiff  \n",
            "  inflating: /content/drive/MyDrive/GurNum1/GurNum/train/9/76.bmp  \n",
            "  inflating: /content/drive/MyDrive/GurNum1/GurNum/val/7/11.tiff  \n",
            "  inflating: /content/drive/MyDrive/GurNum1/GurNum/val/4/11.tiff  \n",
            "  inflating: /content/drive/MyDrive/GurNum1/GurNum/train/9/21.bmp  \n",
            "  inflating: /content/drive/MyDrive/GurNum1/GurNum/val/4/8.tiff  \n",
            "  inflating: /content/drive/MyDrive/GurNum1/GurNum/train/9/20.bmp  \n",
            "  inflating: /content/drive/MyDrive/GurNum1/GurNum/train/9/66.bmp  \n",
            "  inflating: /content/drive/MyDrive/GurNum1/GurNum/train/9/15.bmp  \n",
            "  inflating: /content/drive/MyDrive/GurNum1/GurNum/train/9/1.bmp  \n",
            "  inflating: /content/drive/MyDrive/GurNum1/GurNum/train/9/30.bmp  \n",
            "  inflating: /content/drive/MyDrive/GurNum1/GurNum/train/9/2.bmp  \n",
            "  inflating: /content/drive/MyDrive/GurNum1/GurNum/train/9/98.bmp  \n",
            "  inflating: /content/drive/MyDrive/GurNum1/GurNum/val/4/13.tiff  \n",
            "  inflating: /content/drive/MyDrive/GurNum1/GurNum/train/9/85.bmp  \n",
            "  inflating: /content/drive/MyDrive/GurNum1/GurNum/train/9/55.bmp  \n",
            "  inflating: /content/drive/MyDrive/GurNum1/GurNum/train/9/52.bmp  \n",
            "  inflating: /content/drive/MyDrive/GurNum1/GurNum/train/9/100.bmp  \n",
            "  inflating: /content/drive/MyDrive/GurNum1/GurNum/val/8/10.tiff  \n",
            "  inflating: /content/drive/MyDrive/GurNum1/GurNum/train/9/64.bmp  \n",
            "  inflating: /content/drive/MyDrive/GurNum1/GurNum/val/4/20.tiff  \n",
            "  inflating: /content/drive/MyDrive/GurNum1/GurNum/train/9/99.bmp  \n",
            "  inflating: /content/drive/MyDrive/GurNum1/GurNum/train/9/40.bmp  \n",
            "  inflating: /content/drive/MyDrive/GurNum1/GurNum/train/9/26.bmp  \n",
            "  inflating: /content/drive/MyDrive/GurNum1/GurNum/train/9/46.bmp  \n",
            "  inflating: /content/drive/MyDrive/GurNum1/GurNum/train/9/94.bmp  \n",
            "  inflating: /content/drive/MyDrive/GurNum1/GurNum/train/9/71.bmp  \n",
            "  inflating: /content/drive/MyDrive/GurNum1/GurNum/train/9/12.bmp  \n",
            "  inflating: /content/drive/MyDrive/GurNum1/GurNum/train/9/53.bmp  \n",
            "  inflating: /content/drive/MyDrive/GurNum1/GurNum/train/9/70.bmp  \n",
            "  inflating: /content/drive/MyDrive/GurNum1/GurNum/train/9/28.bmp  \n",
            "  inflating: /content/drive/MyDrive/GurNum1/GurNum/train/9/97.bmp  \n",
            "  inflating: /content/drive/MyDrive/GurNum1/GurNum/train/9/87.bmp  \n",
            "  inflating: /content/drive/MyDrive/GurNum1/GurNum/train/9/22.bmp  \n",
            "  inflating: /content/drive/MyDrive/GurNum1/GurNum/train/9/58.bmp  \n",
            "  inflating: /content/drive/MyDrive/GurNum1/GurNum/train/9/9.bmp  \n",
            "  inflating: /content/drive/MyDrive/GurNum1/GurNum/train/9/75.bmp  \n",
            "  inflating: /content/drive/MyDrive/GurNum1/GurNum/train/9/4.bmp  \n",
            "  inflating: /content/drive/MyDrive/GurNum1/GurNum/train/9/56.bmp  \n",
            "  inflating: /content/drive/MyDrive/GurNum1/GurNum/train/9/47.bmp  \n",
            "  inflating: /content/drive/MyDrive/GurNum1/GurNum/train/9/37.bmp  \n",
            "  inflating: /content/drive/MyDrive/GurNum1/GurNum/train/9/79.bmp  \n",
            "  inflating: /content/drive/MyDrive/GurNum1/GurNum/train/9/38.bmp  \n",
            "  inflating: /content/drive/MyDrive/GurNum1/GurNum/train/9/92.bmp  \n",
            "  inflating: /content/drive/MyDrive/GurNum1/GurNum/train/9/80.bmp  \n",
            "  inflating: /content/drive/MyDrive/GurNum1/GurNum/train/9/77.bmp  \n",
            "  inflating: /content/drive/MyDrive/GurNum1/GurNum/train/9/44.bmp  \n",
            "  inflating: /content/drive/MyDrive/GurNum1/GurNum/train/4/25.bmp  \n",
            "  inflating: /content/drive/MyDrive/GurNum1/GurNum/train/9/35.bmp  \n",
            "  inflating: /content/drive/MyDrive/GurNum1/GurNum/train/9/16.bmp  \n",
            "  inflating: /content/drive/MyDrive/GurNum1/GurNum/train/9/43.bmp  \n",
            "  inflating: /content/drive/MyDrive/GurNum1/GurNum/train/9/69.bmp  \n",
            "  inflating: /content/drive/MyDrive/GurNum1/GurNum/train/4/72.bmp  \n",
            "  inflating: /content/drive/MyDrive/GurNum1/GurNum/train/9/18.bmp  \n",
            "  inflating: /content/drive/MyDrive/GurNum1/GurNum/train/9/72.bmp  \n",
            "  inflating: /content/drive/MyDrive/GurNum1/GurNum/train/9/3.bmp  \n",
            "  inflating: /content/drive/MyDrive/GurNum1/GurNum/train/4/53.bmp  \n",
            "  inflating: /content/drive/MyDrive/GurNum1/GurNum/train/4/71.bmp  \n",
            "  inflating: /content/drive/MyDrive/GurNum1/GurNum/train/4/33.bmp  \n",
            "  inflating: /content/drive/MyDrive/GurNum1/GurNum/train/9/91.bmp  \n",
            "  inflating: /content/drive/MyDrive/GurNum1/GurNum/train/4/27.bmp  \n",
            "  inflating: /content/drive/MyDrive/GurNum1/GurNum/train/9/95.bmp  \n",
            "  inflating: /content/drive/MyDrive/GurNum1/GurNum/train/9/34.bmp  \n",
            "  inflating: /content/drive/MyDrive/GurNum1/GurNum/train/9/63.bmp  \n",
            "  inflating: /content/drive/MyDrive/GurNum1/GurNum/train/9/62.bmp  \n",
            "  inflating: /content/drive/MyDrive/GurNum1/GurNum/train/4/17.bmp  \n",
            "  inflating: /content/drive/MyDrive/GurNum1/GurNum/train/9/27.bmp  \n",
            "  inflating: /content/drive/MyDrive/GurNum1/GurNum/train/9/67.bmp  \n",
            "  inflating: /content/drive/MyDrive/GurNum1/GurNum/train/9/82.bmp  \n",
            "  inflating: /content/drive/MyDrive/GurNum1/GurNum/train/4/48.bmp  \n",
            "  inflating: /content/drive/MyDrive/GurNum1/GurNum/train/4/13.bmp  \n",
            "  inflating: /content/drive/MyDrive/GurNum1/GurNum/train/4/43.bmp  \n",
            "  inflating: /content/drive/MyDrive/GurNum1/GurNum/train/4/95.bmp  \n",
            "  inflating: /content/drive/MyDrive/GurNum1/GurNum/train/9/17.bmp  \n",
            "  inflating: /content/drive/MyDrive/GurNum1/GurNum/train/4/78.bmp  \n",
            "  inflating: /content/drive/MyDrive/GurNum1/GurNum/train/9/33.bmp  \n",
            "  inflating: /content/drive/MyDrive/GurNum1/GurNum/train/4/94.bmp  \n",
            "  inflating: /content/drive/MyDrive/GurNum1/GurNum/train/4/80.bmp  \n",
            "  inflating: /content/drive/MyDrive/GurNum1/GurNum/train/9/81.bmp  \n",
            "  inflating: /content/drive/MyDrive/GurNum1/GurNum/train/4/93.bmp  \n",
            "  inflating: /content/drive/MyDrive/GurNum1/GurNum/train/4/70.bmp  \n",
            "  inflating: /content/drive/MyDrive/GurNum1/GurNum/train/9/6.bmp  \n",
            "  inflating: /content/drive/MyDrive/GurNum1/GurNum/train/4/23.bmp  \n",
            "  inflating: /content/drive/MyDrive/GurNum1/GurNum/train/9/51.bmp  \n",
            "  inflating: /content/drive/MyDrive/GurNum1/GurNum/train/9/86.bmp  \n",
            "  inflating: /content/drive/MyDrive/GurNum1/GurNum/train/4/81.bmp  \n",
            "  inflating: /content/drive/MyDrive/GurNum1/GurNum/train/9/41.bmp  \n",
            "  inflating: /content/drive/MyDrive/GurNum1/GurNum/train/4/8.bmp  \n",
            "  inflating: /content/drive/MyDrive/GurNum1/GurNum/train/9/74.bmp  \n",
            "  inflating: /content/drive/MyDrive/GurNum1/GurNum/train/9/61.bmp  \n",
            "  inflating: /content/drive/MyDrive/GurNum1/GurNum/train/9/78.bmp  \n",
            "  inflating: /content/drive/MyDrive/GurNum1/GurNum/train/9/19.bmp  \n",
            "  inflating: /content/drive/MyDrive/GurNum1/GurNum/train/9/25.bmp  \n",
            "  inflating: /content/drive/MyDrive/GurNum1/GurNum/train/9/32.bmp  \n",
            "  inflating: /content/drive/MyDrive/GurNum1/GurNum/train/4/44.bmp  \n",
            "  inflating: /content/drive/MyDrive/GurNum1/GurNum/train/4/31.bmp  \n",
            "  inflating: /content/drive/MyDrive/GurNum1/GurNum/train/9/50.bmp  \n",
            "  inflating: /content/drive/MyDrive/GurNum1/GurNum/train/4/84.bmp  \n",
            "  inflating: /content/drive/MyDrive/GurNum1/GurNum/train/4/82.bmp  \n",
            "  inflating: /content/drive/MyDrive/GurNum1/GurNum/train/4/18.bmp  \n",
            "  inflating: /content/drive/MyDrive/GurNum1/GurNum/train/4/15.bmp  \n",
            "  inflating: /content/drive/MyDrive/GurNum1/GurNum/train/9/24.bmp  \n",
            "  inflating: /content/drive/MyDrive/GurNum1/GurNum/train/4/45.bmp  \n",
            "  inflating: /content/drive/MyDrive/GurNum1/GurNum/train/4/87.bmp  \n",
            "  inflating: /content/drive/MyDrive/GurNum1/GurNum/train/9/31.bmp  \n",
            "  inflating: /content/drive/MyDrive/GurNum1/GurNum/train/4/4.bmp  \n",
            "  inflating: /content/drive/MyDrive/GurNum1/GurNum/train/4/52.bmp  \n",
            "  inflating: /content/drive/MyDrive/GurNum1/GurNum/train/4/83.bmp  \n",
            "  inflating: /content/drive/MyDrive/GurNum1/GurNum/train/4/42.bmp  \n",
            "  inflating: /content/drive/MyDrive/GurNum1/GurNum/train/4/86.bmp  \n",
            "  inflating: /content/drive/MyDrive/GurNum1/GurNum/train/4/67.bmp  \n",
            "  inflating: /content/drive/MyDrive/GurNum1/GurNum/train/9/89.bmp  \n",
            "  inflating: /content/drive/MyDrive/GurNum1/GurNum/train/4/49.bmp  \n",
            "  inflating: /content/drive/MyDrive/GurNum1/GurNum/train/9/65.bmp  \n",
            "  inflating: /content/drive/MyDrive/GurNum1/GurNum/train/4/65.bmp  \n",
            "  inflating: /content/drive/MyDrive/GurNum1/GurNum/train/4/68.bmp  \n",
            "  inflating: /content/drive/MyDrive/GurNum1/GurNum/train/9/23.bmp  \n",
            "  inflating: /content/drive/MyDrive/GurNum1/GurNum/train/4/3.bmp  \n",
            "  inflating: /content/drive/MyDrive/GurNum1/GurNum/train/4/73.bmp  \n",
            "  inflating: /content/drive/MyDrive/GurNum1/GurNum/train/4/51.bmp  \n",
            "  inflating: /content/drive/MyDrive/GurNum1/GurNum/train/4/85.bmp  \n",
            "  inflating: /content/drive/MyDrive/GurNum1/GurNum/train/4/7.bmp  \n",
            "  inflating: /content/drive/MyDrive/GurNum1/GurNum/train/4/92.bmp  \n",
            "  inflating: /content/drive/MyDrive/GurNum1/GurNum/train/4/12.bmp  \n",
            "  inflating: /content/drive/MyDrive/GurNum1/GurNum/train/4/5.bmp  \n",
            "  inflating: /content/drive/MyDrive/GurNum1/GurNum/train/9/45.bmp  \n",
            "  inflating: /content/drive/MyDrive/GurNum1/GurNum/train/4/79.bmp  \n",
            "  inflating: /content/drive/MyDrive/GurNum1/GurNum/train/9/7.bmp  \n",
            "  inflating: /content/drive/MyDrive/GurNum1/GurNum/train/7/97.bmp  \n",
            "  inflating: /content/drive/MyDrive/GurNum1/GurNum/train/4/28.bmp  \n",
            "  inflating: /content/drive/MyDrive/GurNum1/GurNum/train/4/21.bmp  \n",
            "  inflating: /content/drive/MyDrive/GurNum1/GurNum/train/4/76.bmp  \n",
            "  inflating: /content/drive/MyDrive/GurNum1/GurNum/train/7/100.bmp  \n",
            "  inflating: /content/drive/MyDrive/GurNum1/GurNum/train/4/35.bmp  \n",
            "  inflating: /content/drive/MyDrive/GurNum1/GurNum/train/4/37.bmp  \n",
            "  inflating: /content/drive/MyDrive/GurNum1/GurNum/train/4/30.bmp  \n",
            "  inflating: /content/drive/MyDrive/GurNum1/GurNum/train/4/75.bmp  \n",
            "  inflating: /content/drive/MyDrive/GurNum1/GurNum/train/4/38.bmp  \n",
            "  inflating: /content/drive/MyDrive/GurNum1/GurNum/train/7/94.bmp  \n",
            "  inflating: /content/drive/MyDrive/GurNum1/GurNum/train/7/90.bmp  \n",
            "  inflating: /content/drive/MyDrive/GurNum1/GurNum/train/4/39.bmp  \n",
            "  inflating: /content/drive/MyDrive/GurNum1/GurNum/train/9/93.bmp  \n",
            "  inflating: /content/drive/MyDrive/GurNum1/GurNum/train/4/47.bmp  \n",
            "  inflating: /content/drive/MyDrive/GurNum1/GurNum/train/7/88.bmp  \n",
            "  inflating: /content/drive/MyDrive/GurNum1/GurNum/train/4/77.bmp  \n",
            "  inflating: /content/drive/MyDrive/GurNum1/GurNum/train/4/6.bmp  \n",
            "  inflating: /content/drive/MyDrive/GurNum1/GurNum/train/4/36.bmp  \n",
            "  inflating: /content/drive/MyDrive/GurNum1/GurNum/train/4/91.bmp  \n",
            "  inflating: /content/drive/MyDrive/GurNum1/GurNum/train/7/86.bmp  \n",
            "  inflating: /content/drive/MyDrive/GurNum1/GurNum/train/7/91.bmp  \n",
            "  inflating: /content/drive/MyDrive/GurNum1/GurNum/train/7/54.bmp  \n",
            "  inflating: /content/drive/MyDrive/GurNum1/GurNum/train/4/64.bmp  \n",
            "  inflating: /content/drive/MyDrive/GurNum1/GurNum/train/7/4.bmp  \n",
            "  inflating: /content/drive/MyDrive/GurNum1/GurNum/train/7/99.bmp  \n",
            "  inflating: /content/drive/MyDrive/GurNum1/GurNum/train/7/16.bmp  \n",
            "  inflating: /content/drive/MyDrive/GurNum1/GurNum/train/7/87.bmp  \n",
            "  inflating: /content/drive/MyDrive/GurNum1/GurNum/train/7/96.bmp  \n",
            "  inflating: /content/drive/MyDrive/GurNum1/GurNum/train/4/54.bmp  \n",
            "  inflating: /content/drive/MyDrive/GurNum1/GurNum/train/7/48.bmp  \n",
            "  inflating: /content/drive/MyDrive/GurNum1/GurNum/train/4/16.bmp  \n",
            "  inflating: /content/drive/MyDrive/GurNum1/GurNum/train/7/34.bmp  \n",
            "  inflating: /content/drive/MyDrive/GurNum1/GurNum/train/7/98.bmp  \n",
            "  inflating: /content/drive/MyDrive/GurNum1/GurNum/train/4/57.bmp  \n",
            "  inflating: /content/drive/MyDrive/GurNum1/GurNum/train/4/100.bmp  \n",
            "  inflating: /content/drive/MyDrive/GurNum1/GurNum/train/4/11.bmp  \n",
            "  inflating: /content/drive/MyDrive/GurNum1/GurNum/train/7/11.bmp  \n",
            "  inflating: /content/drive/MyDrive/GurNum1/GurNum/train/7/49.bmp  \n",
            "  inflating: /content/drive/MyDrive/GurNum1/GurNum/train/4/41.bmp  \n",
            "  inflating: /content/drive/MyDrive/GurNum1/GurNum/train/7/58.bmp  \n",
            "  inflating: /content/drive/MyDrive/GurNum1/GurNum/train/7/76.bmp  \n",
            "  inflating: /content/drive/MyDrive/GurNum1/GurNum/train/7/45.bmp  \n",
            "  inflating: /content/drive/MyDrive/GurNum1/GurNum/train/4/26.bmp  \n",
            "  inflating: /content/drive/MyDrive/GurNum1/GurNum/train/7/93.bmp  \n",
            "  inflating: /content/drive/MyDrive/GurNum1/GurNum/train/4/19.bmp  \n",
            "  inflating: /content/drive/MyDrive/GurNum1/GurNum/train/4/90.bmp  \n",
            "  inflating: /content/drive/MyDrive/GurNum1/GurNum/train/4/59.bmp  \n",
            "  inflating: /content/drive/MyDrive/GurNum1/GurNum/train/7/53.bmp  \n",
            "  inflating: /content/drive/MyDrive/GurNum1/GurNum/train/4/46.bmp  \n",
            "  inflating: /content/drive/MyDrive/GurNum1/GurNum/train/7/78.bmp  \n",
            "  inflating: /content/drive/MyDrive/GurNum1/GurNum/train/7/42.bmp  \n",
            "  inflating: /content/drive/MyDrive/GurNum1/GurNum/train/7/81.bmp  \n",
            "  inflating: /content/drive/MyDrive/GurNum1/GurNum/train/4/97.bmp  \n",
            "  inflating: /content/drive/MyDrive/GurNum1/GurNum/train/4/63.bmp  \n",
            "  inflating: /content/drive/MyDrive/GurNum1/GurNum/train/7/36.bmp  \n",
            "  inflating: /content/drive/MyDrive/GurNum1/GurNum/train/7/92.bmp  \n",
            "  inflating: /content/drive/MyDrive/GurNum1/GurNum/train/4/29.bmp  \n",
            "  inflating: /content/drive/MyDrive/GurNum1/GurNum/train/7/26.bmp  \n",
            "  inflating: /content/drive/MyDrive/GurNum1/GurNum/train/4/14.bmp  \n",
            "  inflating: /content/drive/MyDrive/GurNum1/GurNum/train/7/2.bmp  \n",
            "  inflating: /content/drive/MyDrive/GurNum1/GurNum/train/4/9.bmp  \n",
            "  inflating: /content/drive/MyDrive/GurNum1/GurNum/train/4/50.bmp  \n",
            "  inflating: /content/drive/MyDrive/GurNum1/GurNum/train/4/20.bmp  \n",
            "  inflating: /content/drive/MyDrive/GurNum1/GurNum/train/7/61.bmp  \n",
            "  inflating: /content/drive/MyDrive/GurNum1/GurNum/train/7/60.bmp  \n",
            "  inflating: /content/drive/MyDrive/GurNum1/GurNum/train/4/10.bmp  \n",
            "  inflating: /content/drive/MyDrive/GurNum1/GurNum/train/4/66.bmp  \n",
            "  inflating: /content/drive/MyDrive/GurNum1/GurNum/train/4/74.bmp  \n",
            "  inflating: /content/drive/MyDrive/GurNum1/GurNum/train/7/40.bmp  \n",
            "  inflating: /content/drive/MyDrive/GurNum1/GurNum/train/4/98.bmp  \n",
            "  inflating: /content/drive/MyDrive/GurNum1/GurNum/train/4/60.bmp  \n",
            "  inflating: /content/drive/MyDrive/GurNum1/GurNum/train/4/69.bmp  \n",
            "  inflating: /content/drive/MyDrive/GurNum1/GurNum/train/4/24.bmp  \n",
            "  inflating: /content/drive/MyDrive/GurNum1/GurNum/train/4/89.bmp  \n",
            "  inflating: /content/drive/MyDrive/GurNum1/GurNum/train/4/56.bmp  \n",
            "  inflating: /content/drive/MyDrive/GurNum1/GurNum/train/7/32.bmp  \n",
            "  inflating: /content/drive/MyDrive/GurNum1/GurNum/train/7/12.bmp  \n",
            "  inflating: /content/drive/MyDrive/GurNum1/GurNum/train/7/63.bmp  \n",
            "  inflating: /content/drive/MyDrive/GurNum1/GurNum/train/4/2.bmp  \n",
            "  inflating: /content/drive/MyDrive/GurNum1/GurNum/train/4/62.bmp  \n",
            "  inflating: /content/drive/MyDrive/GurNum1/GurNum/train/4/40.bmp  \n",
            "  inflating: /content/drive/MyDrive/GurNum1/GurNum/train/4/55.bmp  \n",
            "  inflating: /content/drive/MyDrive/GurNum1/GurNum/train/7/95.bmp  \n",
            "  inflating: /content/drive/MyDrive/GurNum1/GurNum/train/7/89.bmp  \n",
            "  inflating: /content/drive/MyDrive/GurNum1/GurNum/train/4/32.bmp  \n",
            "  inflating: /content/drive/MyDrive/GurNum1/GurNum/train/4/99.bmp  \n",
            "  inflating: /content/drive/MyDrive/GurNum1/GurNum/train/7/50.bmp  \n",
            "  inflating: /content/drive/MyDrive/GurNum1/GurNum/train/7/33.bmp  \n",
            "  inflating: /content/drive/MyDrive/GurNum1/GurNum/train/7/84.bmp  \n",
            "  inflating: /content/drive/MyDrive/GurNum1/GurNum/train/7/9.bmp  \n",
            "  inflating: /content/drive/MyDrive/GurNum1/GurNum/train/7/20.bmp  \n",
            "  inflating: /content/drive/MyDrive/GurNum1/GurNum/train/4/22.bmp  \n",
            "  inflating: /content/drive/MyDrive/GurNum1/GurNum/train/7/68.bmp  \n",
            "  inflating: /content/drive/MyDrive/GurNum1/GurNum/train/7/75.bmp  \n",
            "  inflating: /content/drive/MyDrive/GurNum1/GurNum/train/7/29.bmp  \n",
            "  inflating: /content/drive/MyDrive/GurNum1/GurNum/train/7/74.bmp  \n",
            "  inflating: /content/drive/MyDrive/GurNum1/GurNum/train/7/24.bmp  \n",
            "  inflating: /content/drive/MyDrive/GurNum1/GurNum/train/7/35.bmp  \n",
            "  inflating: /content/drive/MyDrive/GurNum1/GurNum/train/4/1.bmp  \n",
            "  inflating: /content/drive/MyDrive/GurNum1/GurNum/train/7/73.bmp  \n",
            "  inflating: /content/drive/MyDrive/GurNum1/GurNum/train/4/61.bmp  \n",
            "  inflating: /content/drive/MyDrive/GurNum1/GurNum/train/7/38.bmp  \n",
            "  inflating: /content/drive/MyDrive/GurNum1/GurNum/train/7/64.bmp  \n",
            "  inflating: /content/drive/MyDrive/GurNum1/GurNum/train/7/13.bmp  \n",
            "  inflating: /content/drive/MyDrive/GurNum1/GurNum/train/4/88.bmp  \n",
            "  inflating: /content/drive/MyDrive/GurNum1/GurNum/train/4/34.bmp  \n",
            "  inflating: /content/drive/MyDrive/GurNum1/GurNum/train/7/1.bmp  \n",
            "  inflating: /content/drive/MyDrive/GurNum1/GurNum/train/7/37.bmp  \n",
            "  inflating: /content/drive/MyDrive/GurNum1/GurNum/train/7/62.bmp  \n",
            "  inflating: /content/drive/MyDrive/GurNum1/GurNum/train/4/96.bmp  \n",
            "  inflating: /content/drive/MyDrive/GurNum1/GurNum/train/4/58.bmp  \n",
            "  inflating: /content/drive/MyDrive/GurNum1/GurNum/train/7/14.bmp  \n",
            "  inflating: /content/drive/MyDrive/GurNum1/GurNum/train/7/39.bmp  \n",
            "  inflating: /content/drive/MyDrive/GurNum1/GurNum/train/7/51.bmp  \n",
            "  inflating: /content/drive/MyDrive/GurNum1/GurNum/train/7/19.bmp  \n",
            "  inflating: /content/drive/MyDrive/GurNum1/GurNum/train/7/6.bmp  \n",
            "  inflating: /content/drive/MyDrive/GurNum1/GurNum/train/7/70.bmp  \n",
            "  inflating: /content/drive/MyDrive/GurNum1/GurNum/train/7/21.bmp  \n",
            "  inflating: /content/drive/MyDrive/GurNum1/GurNum/train/7/25.bmp  \n",
            "  inflating: /content/drive/MyDrive/GurNum1/GurNum/train/7/69.bmp  \n",
            "  inflating: /content/drive/MyDrive/GurNum1/GurNum/train/7/43.bmp  \n",
            "  inflating: /content/drive/MyDrive/GurNum1/GurNum/train/7/41.bmp  \n",
            "  inflating: /content/drive/MyDrive/GurNum1/GurNum/train/7/56.bmp  \n",
            "  inflating: /content/drive/MyDrive/GurNum1/GurNum/train/7/55.bmp  \n",
            "  inflating: /content/drive/MyDrive/GurNum1/GurNum/train/7/47.bmp  \n",
            "  inflating: /content/drive/MyDrive/GurNum1/GurNum/train/7/28.bmp  \n",
            "  inflating: /content/drive/MyDrive/GurNum1/GurNum/train/7/17.bmp  \n",
            "  inflating: /content/drive/MyDrive/GurNum1/GurNum/train/7/15.bmp  \n",
            "  inflating: /content/drive/MyDrive/GurNum1/GurNum/train/7/83.bmp  \n",
            "  inflating: /content/drive/MyDrive/GurNum1/GurNum/train/7/80.bmp  \n",
            "  inflating: /content/drive/MyDrive/GurNum1/GurNum/train/7/57.bmp  \n",
            "  inflating: /content/drive/MyDrive/GurNum1/GurNum/train/7/30.bmp  \n",
            "  inflating: /content/drive/MyDrive/GurNum1/GurNum/train/7/22.bmp  \n",
            "  inflating: /content/drive/MyDrive/GurNum1/GurNum/train/7/46.bmp  \n",
            "  inflating: /content/drive/MyDrive/GurNum1/GurNum/train/7/65.bmp  \n",
            "  inflating: /content/drive/MyDrive/GurNum1/GurNum/train/7/31.bmp  \n",
            "  inflating: /content/drive/MyDrive/GurNum1/GurNum/train/7/85.bmp  \n",
            "  inflating: /content/drive/MyDrive/GurNum1/GurNum/train/7/71.bmp  \n",
            "  inflating: /content/drive/MyDrive/GurNum1/GurNum/train/7/23.bmp  \n",
            "  inflating: /content/drive/MyDrive/GurNum1/GurNum/train/7/59.bmp  \n",
            "  inflating: /content/drive/MyDrive/GurNum1/GurNum/train/7/27.bmp  \n",
            "  inflating: /content/drive/MyDrive/GurNum1/GurNum/train/6/31.bmp  \n",
            "  inflating: /content/drive/MyDrive/GurNum1/GurNum/train/7/8.bmp  \n",
            "  inflating: /content/drive/MyDrive/GurNum1/GurNum/train/7/10.bmp  \n",
            "  inflating: /content/drive/MyDrive/GurNum1/GurNum/train/7/5.bmp  \n",
            "  inflating: /content/drive/MyDrive/GurNum1/GurNum/train/7/82.bmp  \n",
            "  inflating: /content/drive/MyDrive/GurNum1/GurNum/train/6/60.bmp  \n",
            "  inflating: /content/drive/MyDrive/GurNum1/GurNum/train/6/41.bmp  \n",
            "  inflating: /content/drive/MyDrive/GurNum1/GurNum/train/7/72.bmp  \n",
            "  inflating: /content/drive/MyDrive/GurNum1/GurNum/train/7/77.bmp  \n",
            "  inflating: /content/drive/MyDrive/GurNum1/GurNum/train/6/74.bmp  \n",
            "  inflating: /content/drive/MyDrive/GurNum1/GurNum/train/6/20.bmp  \n",
            "  inflating: /content/drive/MyDrive/GurNum1/GurNum/train/7/44.bmp  \n",
            "  inflating: /content/drive/MyDrive/GurNum1/GurNum/train/6/52.bmp  \n",
            "  inflating: /content/drive/MyDrive/GurNum1/GurNum/train/7/66.bmp  \n",
            "  inflating: /content/drive/MyDrive/GurNum1/GurNum/train/6/15.bmp  \n",
            "  inflating: /content/drive/MyDrive/GurNum1/GurNum/train/6/92.bmp  \n",
            "  inflating: /content/drive/MyDrive/GurNum1/GurNum/train/6/91.bmp  \n",
            "  inflating: /content/drive/MyDrive/GurNum1/GurNum/train/6/42.bmp  \n",
            "  inflating: /content/drive/MyDrive/GurNum1/GurNum/train/6/76.bmp  \n",
            "  inflating: /content/drive/MyDrive/GurNum1/GurNum/train/7/7.bmp  \n",
            "  inflating: /content/drive/MyDrive/GurNum1/GurNum/train/6/57.bmp  \n",
            "  inflating: /content/drive/MyDrive/GurNum1/GurNum/train/7/52.bmp  \n",
            "  inflating: /content/drive/MyDrive/GurNum1/GurNum/train/7/18.bmp  \n",
            "  inflating: /content/drive/MyDrive/GurNum1/GurNum/train/7/79.bmp  \n",
            "  inflating: /content/drive/MyDrive/GurNum1/GurNum/train/7/3.bmp  \n",
            "  inflating: /content/drive/MyDrive/GurNum1/GurNum/train/6/96.bmp  \n",
            "  inflating: /content/drive/MyDrive/GurNum1/GurNum/train/6/61.bmp  \n",
            "  inflating: /content/drive/MyDrive/GurNum1/GurNum/train/6/3.bmp  \n",
            "  inflating: /content/drive/MyDrive/GurNum1/GurNum/train/6/94.bmp  \n",
            "  inflating: /content/drive/MyDrive/GurNum1/GurNum/train/6/72.bmp  \n",
            "  inflating: /content/drive/MyDrive/GurNum1/GurNum/train/3/98.bmp  \n",
            "  inflating: /content/drive/MyDrive/GurNum1/GurNum/train/7/67.bmp  \n",
            "  inflating: /content/drive/MyDrive/GurNum1/GurNum/train/3/44.bmp  \n",
            "  inflating: /content/drive/MyDrive/GurNum1/GurNum/train/6/50.bmp  \n",
            "  inflating: /content/drive/MyDrive/GurNum1/GurNum/train/6/11.bmp  \n",
            "  inflating: /content/drive/MyDrive/GurNum1/GurNum/train/6/12.bmp  \n",
            "  inflating: /content/drive/MyDrive/GurNum1/GurNum/train/6/70.bmp  \n",
            "  inflating: /content/drive/MyDrive/GurNum1/GurNum/train/6/2.bmp  \n",
            "  inflating: /content/drive/MyDrive/GurNum1/GurNum/train/6/35.bmp  \n",
            "  inflating: /content/drive/MyDrive/GurNum1/GurNum/train/3/97.bmp  \n",
            "  inflating: /content/drive/MyDrive/GurNum1/GurNum/train/6/78.bmp  \n",
            "  inflating: /content/drive/MyDrive/GurNum1/GurNum/train/6/55.bmp  \n",
            "  inflating: /content/drive/MyDrive/GurNum1/GurNum/train/3/50.bmp  \n",
            "  inflating: /content/drive/MyDrive/GurNum1/GurNum/train/3/77.bmp  \n",
            "  inflating: /content/drive/MyDrive/GurNum1/GurNum/train/6/73.bmp  \n",
            "  inflating: /content/drive/MyDrive/GurNum1/GurNum/train/6/58.bmp  \n",
            "  inflating: /content/drive/MyDrive/GurNum1/GurNum/train/6/4.bmp  \n",
            "  inflating: /content/drive/MyDrive/GurNum1/GurNum/train/3/6.bmp  \n",
            "  inflating: /content/drive/MyDrive/GurNum1/GurNum/train/3/100.bmp  \n",
            "  inflating: /content/drive/MyDrive/GurNum1/GurNum/train/3/95.bmp  \n",
            "  inflating: /content/drive/MyDrive/GurNum1/GurNum/train/6/97.bmp  \n",
            "  inflating: /content/drive/MyDrive/GurNum1/GurNum/train/3/99.bmp  \n",
            "  inflating: /content/drive/MyDrive/GurNum1/GurNum/train/6/28.bmp  \n",
            "  inflating: /content/drive/MyDrive/GurNum1/GurNum/train/6/25.bmp  \n",
            "  inflating: /content/drive/MyDrive/GurNum1/GurNum/train/6/84.bmp  \n",
            "  inflating: /content/drive/MyDrive/GurNum1/GurNum/train/6/43.bmp  \n",
            "  inflating: /content/drive/MyDrive/GurNum1/GurNum/train/3/3.bmp  \n",
            "  inflating: /content/drive/MyDrive/GurNum1/GurNum/train/3/7.bmp  \n",
            "  inflating: /content/drive/MyDrive/GurNum1/GurNum/train/6/45.bmp  \n",
            "  inflating: /content/drive/MyDrive/GurNum1/GurNum/train/6/71.bmp  \n",
            "  inflating: /content/drive/MyDrive/GurNum1/GurNum/train/3/23.bmp  \n",
            "  inflating: /content/drive/MyDrive/GurNum1/GurNum/train/3/84.bmp  \n",
            "  inflating: /content/drive/MyDrive/GurNum1/GurNum/train/3/53.bmp  \n",
            "  inflating: /content/drive/MyDrive/GurNum1/GurNum/train/3/33.bmp  \n",
            "  inflating: /content/drive/MyDrive/GurNum1/GurNum/train/6/18.bmp  \n",
            "  inflating: /content/drive/MyDrive/GurNum1/GurNum/train/6/98.bmp  \n",
            "  inflating: /content/drive/MyDrive/GurNum1/GurNum/train/6/46.bmp  \n",
            "  inflating: /content/drive/MyDrive/GurNum1/GurNum/train/6/47.bmp  \n",
            "  inflating: /content/drive/MyDrive/GurNum1/GurNum/train/3/74.bmp  \n",
            "  inflating: /content/drive/MyDrive/GurNum1/GurNum/train/3/19.bmp  \n",
            "  inflating: /content/drive/MyDrive/GurNum1/GurNum/train/3/2.bmp  \n",
            "  inflating: /content/drive/MyDrive/GurNum1/GurNum/train/3/76.bmp  \n",
            "  inflating: /content/drive/MyDrive/GurNum1/GurNum/train/6/19.bmp  \n",
            "  inflating: /content/drive/MyDrive/GurNum1/GurNum/train/6/86.bmp  \n",
            "  inflating: /content/drive/MyDrive/GurNum1/GurNum/train/6/33.bmp  \n",
            "  inflating: /content/drive/MyDrive/GurNum1/GurNum/train/3/62.bmp  \n",
            "  inflating: /content/drive/MyDrive/GurNum1/GurNum/train/6/16.bmp  \n",
            "  inflating: /content/drive/MyDrive/GurNum1/GurNum/train/6/67.bmp  \n",
            "  inflating: /content/drive/MyDrive/GurNum1/GurNum/train/3/17.bmp  \n",
            "  inflating: /content/drive/MyDrive/GurNum1/GurNum/train/3/48.bmp  \n",
            "  inflating: /content/drive/MyDrive/GurNum1/GurNum/train/3/65.bmp  \n",
            "  inflating: /content/drive/MyDrive/GurNum1/GurNum/train/6/39.bmp  \n",
            "  inflating: /content/drive/MyDrive/GurNum1/GurNum/train/3/18.bmp  \n",
            "  inflating: /content/drive/MyDrive/GurNum1/GurNum/train/3/40.bmp  \n",
            "  inflating: /content/drive/MyDrive/GurNum1/GurNum/train/3/51.bmp  \n",
            "  inflating: /content/drive/MyDrive/GurNum1/GurNum/train/6/9.bmp  \n",
            "  inflating: /content/drive/MyDrive/GurNum1/GurNum/train/3/14.bmp  \n",
            "  inflating: /content/drive/MyDrive/GurNum1/GurNum/train/3/45.bmp  \n",
            "  inflating: /content/drive/MyDrive/GurNum1/GurNum/train/6/83.bmp  \n",
            "  inflating: /content/drive/MyDrive/GurNum1/GurNum/train/6/7.bmp  \n",
            "  inflating: /content/drive/MyDrive/GurNum1/GurNum/train/6/54.bmp  \n",
            "  inflating: /content/drive/MyDrive/GurNum1/GurNum/train/6/62.bmp  \n",
            "  inflating: /content/drive/MyDrive/GurNum1/GurNum/train/3/82.bmp  \n",
            "  inflating: /content/drive/MyDrive/GurNum1/GurNum/train/6/21.bmp  \n",
            "  inflating: /content/drive/MyDrive/GurNum1/GurNum/train/3/16.bmp  \n",
            "  inflating: /content/drive/MyDrive/GurNum1/GurNum/train/3/4.bmp  \n",
            "  inflating: /content/drive/MyDrive/GurNum1/GurNum/train/6/6.bmp  \n",
            "  inflating: /content/drive/MyDrive/GurNum1/GurNum/train/6/29.bmp  \n",
            "  inflating: /content/drive/MyDrive/GurNum1/GurNum/train/3/66.bmp  \n",
            "  inflating: /content/drive/MyDrive/GurNum1/GurNum/train/3/94.bmp  \n",
            "  inflating: /content/drive/MyDrive/GurNum1/GurNum/train/3/24.bmp  \n",
            "  inflating: /content/drive/MyDrive/GurNum1/GurNum/train/6/23.bmp  \n",
            "  inflating: /content/drive/MyDrive/GurNum1/GurNum/train/6/34.bmp  \n",
            "  inflating: /content/drive/MyDrive/GurNum1/GurNum/train/3/79.bmp  \n",
            "  inflating: /content/drive/MyDrive/GurNum1/GurNum/train/6/49.bmp  \n",
            "  inflating: /content/drive/MyDrive/GurNum1/GurNum/train/6/79.bmp  \n",
            "  inflating: /content/drive/MyDrive/GurNum1/GurNum/train/6/37.bmp  \n",
            "  inflating: /content/drive/MyDrive/GurNum1/GurNum/train/3/85.bmp  \n",
            "  inflating: /content/drive/MyDrive/GurNum1/GurNum/train/6/32.bmp  \n",
            "  inflating: /content/drive/MyDrive/GurNum1/GurNum/train/3/38.bmp  \n",
            "  inflating: /content/drive/MyDrive/GurNum1/GurNum/train/3/92.bmp  \n",
            "  inflating: /content/drive/MyDrive/GurNum1/GurNum/train/6/82.bmp  \n",
            "  inflating: /content/drive/MyDrive/GurNum1/GurNum/train/6/66.bmp  \n",
            "  inflating: /content/drive/MyDrive/GurNum1/GurNum/train/3/41.bmp  \n",
            "  inflating: /content/drive/MyDrive/GurNum1/GurNum/train/6/8.bmp  \n",
            "  inflating: /content/drive/MyDrive/GurNum1/GurNum/train/6/65.bmp  \n",
            "  inflating: /content/drive/MyDrive/GurNum1/GurNum/train/6/81.bmp  \n",
            "  inflating: /content/drive/MyDrive/GurNum1/GurNum/train/6/100.bmp  \n",
            "  inflating: /content/drive/MyDrive/GurNum1/GurNum/train/6/87.bmp  \n",
            "  inflating: /content/drive/MyDrive/GurNum1/GurNum/train/3/9.bmp  \n",
            "  inflating: /content/drive/MyDrive/GurNum1/GurNum/train/3/37.bmp  \n",
            "  inflating: /content/drive/MyDrive/GurNum1/GurNum/train/3/21.bmp  \n",
            "  inflating: /content/drive/MyDrive/GurNum1/GurNum/train/6/36.bmp  \n",
            "  inflating: /content/drive/MyDrive/GurNum1/GurNum/train/6/64.bmp  \n",
            "  inflating: /content/drive/MyDrive/GurNum1/GurNum/train/3/75.bmp  \n",
            "  inflating: /content/drive/MyDrive/GurNum1/GurNum/train/3/29.bmp  \n",
            "  inflating: /content/drive/MyDrive/GurNum1/GurNum/train/6/59.bmp  \n",
            "  inflating: /content/drive/MyDrive/GurNum1/GurNum/train/6/1.bmp  \n",
            "  inflating: /content/drive/MyDrive/GurNum1/GurNum/train/3/34.bmp  \n",
            "  inflating: /content/drive/MyDrive/GurNum1/GurNum/train/3/69.bmp  \n",
            "  inflating: /content/drive/MyDrive/GurNum1/GurNum/train/3/55.bmp  \n",
            "  inflating: /content/drive/MyDrive/GurNum1/GurNum/train/6/53.bmp  \n",
            "  inflating: /content/drive/MyDrive/GurNum1/GurNum/train/6/95.bmp  \n",
            "  inflating: /content/drive/MyDrive/GurNum1/GurNum/train/3/57.bmp  \n",
            "  inflating: /content/drive/MyDrive/GurNum1/GurNum/train/6/13.bmp  \n",
            "  inflating: /content/drive/MyDrive/GurNum1/GurNum/train/6/77.bmp  \n",
            "  inflating: /content/drive/MyDrive/GurNum1/GurNum/train/6/51.bmp  \n",
            "  inflating: /content/drive/MyDrive/GurNum1/GurNum/train/3/10.bmp  \n",
            "  inflating: /content/drive/MyDrive/GurNum1/GurNum/train/6/44.bmp  \n",
            "  inflating: /content/drive/MyDrive/GurNum1/GurNum/train/6/48.bmp  \n",
            "  inflating: /content/drive/MyDrive/GurNum1/GurNum/train/6/89.bmp  \n",
            "  inflating: /content/drive/MyDrive/GurNum1/GurNum/train/6/90.bmp  \n",
            "  inflating: /content/drive/MyDrive/GurNum1/GurNum/train/6/93.bmp  \n",
            "  inflating: /content/drive/MyDrive/GurNum1/GurNum/train/3/15.bmp  \n",
            "  inflating: /content/drive/MyDrive/GurNum1/GurNum/train/3/87.bmp  \n",
            "  inflating: /content/drive/MyDrive/GurNum1/GurNum/train/3/64.bmp  \n",
            "  inflating: /content/drive/MyDrive/GurNum1/GurNum/train/6/26.bmp  \n",
            "  inflating: /content/drive/MyDrive/GurNum1/GurNum/train/3/28.bmp  \n",
            "  inflating: /content/drive/MyDrive/GurNum1/GurNum/train/6/68.bmp  \n",
            "  inflating: /content/drive/MyDrive/GurNum1/GurNum/train/3/46.bmp  \n",
            "  inflating: /content/drive/MyDrive/GurNum1/GurNum/train/3/83.bmp  \n",
            "  inflating: /content/drive/MyDrive/GurNum1/GurNum/train/6/88.bmp  \n",
            "  inflating: /content/drive/MyDrive/GurNum1/GurNum/train/6/22.bmp  \n",
            "  inflating: /content/drive/MyDrive/GurNum1/GurNum/train/6/69.bmp  \n",
            "  inflating: /content/drive/MyDrive/GurNum1/GurNum/train/3/12.bmp  \n",
            "  inflating: /content/drive/MyDrive/GurNum1/GurNum/train/3/36.bmp  \n",
            "  inflating: /content/drive/MyDrive/GurNum1/GurNum/train/6/63.bmp  \n",
            "  inflating: /content/drive/MyDrive/GurNum1/GurNum/train/3/80.bmp  \n",
            "  inflating: /content/drive/MyDrive/GurNum1/GurNum/train/6/27.bmp  \n",
            "  inflating: /content/drive/MyDrive/GurNum1/GurNum/train/3/81.bmp  \n",
            "  inflating: /content/drive/MyDrive/GurNum1/GurNum/train/3/20.bmp  \n",
            "  inflating: /content/drive/MyDrive/GurNum1/GurNum/train/6/10.bmp  \n",
            "  inflating: /content/drive/MyDrive/GurNum1/GurNum/train/6/24.bmp  \n",
            "  inflating: /content/drive/MyDrive/GurNum1/GurNum/train/6/17.bmp  \n",
            "  inflating: /content/drive/MyDrive/GurNum1/GurNum/train/3/30.bmp  \n",
            "  inflating: /content/drive/MyDrive/GurNum1/GurNum/train/3/32.bmp  \n",
            "  inflating: /content/drive/MyDrive/GurNum1/GurNum/train/3/42.bmp  \n",
            "  inflating: /content/drive/MyDrive/GurNum1/GurNum/train/3/59.bmp  \n",
            "  inflating: /content/drive/MyDrive/GurNum1/GurNum/train/6/80.bmp  \n",
            "  inflating: /content/drive/MyDrive/GurNum1/GurNum/train/6/99.bmp  \n",
            "  inflating: /content/drive/MyDrive/GurNum1/GurNum/train/6/75.bmp  \n",
            "  inflating: /content/drive/MyDrive/GurNum1/GurNum/train/3/11.bmp  \n",
            "  inflating: /content/drive/MyDrive/GurNum1/GurNum/train/6/5.bmp  \n",
            "  inflating: /content/drive/MyDrive/GurNum1/GurNum/train/3/93.bmp  \n",
            "  inflating: /content/drive/MyDrive/GurNum1/GurNum/train/6/38.bmp  \n",
            "  inflating: /content/drive/MyDrive/GurNum1/GurNum/train/6/85.bmp  \n",
            "  inflating: /content/drive/MyDrive/GurNum1/GurNum/train/3/5.bmp  \n",
            "  inflating: /content/drive/MyDrive/GurNum1/GurNum/train/3/31.bmp  \n",
            "  inflating: /content/drive/MyDrive/GurNum1/GurNum/train/3/26.bmp  \n",
            "  inflating: /content/drive/MyDrive/GurNum1/GurNum/train/3/63.bmp  \n",
            "  inflating: /content/drive/MyDrive/GurNum1/GurNum/train/3/78.bmp  \n",
            "  inflating: /content/drive/MyDrive/GurNum1/GurNum/train/6/40.bmp  \n",
            "  inflating: /content/drive/MyDrive/GurNum1/GurNum/train/3/60.bmp  \n",
            "  inflating: /content/drive/MyDrive/GurNum1/GurNum/train/3/35.bmp  \n",
            "  inflating: /content/drive/MyDrive/GurNum1/GurNum/train/3/58.bmp  \n",
            "  inflating: /content/drive/MyDrive/GurNum1/GurNum/train/3/71.bmp  \n",
            "  inflating: /content/drive/MyDrive/GurNum1/GurNum/train/3/72.bmp  \n",
            "  inflating: /content/drive/MyDrive/GurNum1/GurNum/train/3/1.bmp  \n",
            "  inflating: /content/drive/MyDrive/GurNum1/GurNum/train/3/47.bmp  \n",
            "  inflating: /content/drive/MyDrive/GurNum1/GurNum/train/3/13.bmp  \n",
            "  inflating: /content/drive/MyDrive/GurNum1/GurNum/train/3/68.bmp  \n",
            "  inflating: /content/drive/MyDrive/GurNum1/GurNum/train/3/22.bmp  \n",
            "  inflating: /content/drive/MyDrive/GurNum1/GurNum/train/3/54.bmp  \n",
            "  inflating: /content/drive/MyDrive/GurNum1/GurNum/train/3/61.bmp  \n",
            "  inflating: /content/drive/MyDrive/GurNum1/GurNum/train/2/95.bmp  \n",
            "  inflating: /content/drive/MyDrive/GurNum1/GurNum/train/6/30.bmp  \n",
            "  inflating: /content/drive/MyDrive/GurNum1/GurNum/train/2/90.bmp  \n",
            "  inflating: /content/drive/MyDrive/GurNum1/GurNum/train/6/14.bmp  \n",
            "  inflating: /content/drive/MyDrive/GurNum1/GurNum/train/3/86.bmp  \n",
            "  inflating: /content/drive/MyDrive/GurNum1/GurNum/train/6/56.bmp  \n",
            "  inflating: /content/drive/MyDrive/GurNum1/GurNum/train/3/70.bmp  \n",
            "  inflating: /content/drive/MyDrive/GurNum1/GurNum/train/2/98.bmp  \n",
            "  inflating: /content/drive/MyDrive/GurNum1/GurNum/train/2/87.bmp  \n",
            "  inflating: /content/drive/MyDrive/GurNum1/GurNum/train/3/89.bmp  \n",
            "  inflating: /content/drive/MyDrive/GurNum1/GurNum/train/2/96.bmp  \n",
            "  inflating: /content/drive/MyDrive/GurNum1/GurNum/train/2/77.bmp  \n",
            "  inflating: /content/drive/MyDrive/GurNum1/GurNum/train/3/39.bmp  \n",
            "  inflating: /content/drive/MyDrive/GurNum1/GurNum/train/3/91.bmp  \n",
            "  inflating: /content/drive/MyDrive/GurNum1/GurNum/train/3/67.bmp  \n",
            "  inflating: /content/drive/MyDrive/GurNum1/GurNum/train/3/96.bmp  \n",
            "  inflating: /content/drive/MyDrive/GurNum1/GurNum/train/3/52.bmp  \n",
            "  inflating: /content/drive/MyDrive/GurNum1/GurNum/train/3/73.bmp  \n",
            "  inflating: /content/drive/MyDrive/GurNum1/GurNum/train/3/56.bmp  \n",
            "  inflating: /content/drive/MyDrive/GurNum1/GurNum/train/2/85.bmp  \n",
            "  inflating: /content/drive/MyDrive/GurNum1/GurNum/train/2/100.bmp  \n",
            "  inflating: /content/drive/MyDrive/GurNum1/GurNum/train/2/83.bmp  \n",
            "  inflating: /content/drive/MyDrive/GurNum1/GurNum/train/2/79.bmp  \n",
            "  inflating: /content/drive/MyDrive/GurNum1/GurNum/train/2/97.bmp  \n",
            "  inflating: /content/drive/MyDrive/GurNum1/GurNum/train/3/25.bmp  \n",
            "  inflating: /content/drive/MyDrive/GurNum1/GurNum/train/3/49.bmp  \n",
            "  inflating: /content/drive/MyDrive/GurNum1/GurNum/train/2/78.bmp  \n",
            "  inflating: /content/drive/MyDrive/GurNum1/GurNum/train/2/72.bmp  \n",
            "  inflating: /content/drive/MyDrive/GurNum1/GurNum/train/2/91.bmp  \n",
            "  inflating: /content/drive/MyDrive/GurNum1/GurNum/train/2/57.bmp  \n",
            "  inflating: /content/drive/MyDrive/GurNum1/GurNum/train/2/67.bmp  \n",
            "  inflating: /content/drive/MyDrive/GurNum1/GurNum/train/2/74.bmp  \n",
            "  inflating: /content/drive/MyDrive/GurNum1/GurNum/train/2/82.bmp  \n",
            "  inflating: /content/drive/MyDrive/GurNum1/GurNum/train/2/99.bmp  \n",
            "  inflating: /content/drive/MyDrive/GurNum1/GurNum/train/2/81.bmp  \n",
            "  inflating: /content/drive/MyDrive/GurNum1/GurNum/train/3/27.bmp  \n",
            "  inflating: /content/drive/MyDrive/GurNum1/GurNum/train/2/86.bmp  \n",
            "  inflating: /content/drive/MyDrive/GurNum1/GurNum/train/2/89.bmp  \n",
            "  inflating: /content/drive/MyDrive/GurNum1/GurNum/train/3/90.bmp  \n",
            "  inflating: /content/drive/MyDrive/GurNum1/GurNum/train/3/88.bmp  \n",
            "  inflating: /content/drive/MyDrive/GurNum1/GurNum/train/2/5.bmp  \n",
            "  inflating: /content/drive/MyDrive/GurNum1/GurNum/train/2/84.bmp  \n",
            "  inflating: /content/drive/MyDrive/GurNum1/GurNum/train/2/36.bmp  \n",
            "  inflating: /content/drive/MyDrive/GurNum1/GurNum/train/2/75.bmp  \n",
            "  inflating: /content/drive/MyDrive/GurNum1/GurNum/train/2/45.bmp  \n",
            "  inflating: /content/drive/MyDrive/GurNum1/GurNum/train/2/15.bmp  \n",
            "  inflating: /content/drive/MyDrive/GurNum1/GurNum/train/3/8.bmp  \n",
            "  inflating: /content/drive/MyDrive/GurNum1/GurNum/train/2/92.bmp  \n",
            "  inflating: /content/drive/MyDrive/GurNum1/GurNum/train/2/80.bmp  \n",
            "  inflating: /content/drive/MyDrive/GurNum1/GurNum/train/2/24.bmp  \n",
            "  inflating: /content/drive/MyDrive/GurNum1/GurNum/train/2/9.bmp  \n",
            "  inflating: /content/drive/MyDrive/GurNum1/GurNum/train/2/10.bmp  \n",
            "  inflating: /content/drive/MyDrive/GurNum1/GurNum/train/2/32.bmp  \n",
            "  inflating: /content/drive/MyDrive/GurNum1/GurNum/train/2/93.bmp  \n",
            "  inflating: /content/drive/MyDrive/GurNum1/GurNum/train/2/23.bmp  \n",
            "  inflating: /content/drive/MyDrive/GurNum1/GurNum/train/2/88.bmp  \n",
            "  inflating: /content/drive/MyDrive/GurNum1/GurNum/train/2/59.bmp  \n",
            "  inflating: /content/drive/MyDrive/GurNum1/GurNum/train/2/35.bmp  \n",
            "  inflating: /content/drive/MyDrive/GurNum1/GurNum/train/2/50.bmp  \n",
            "  inflating: /content/drive/MyDrive/GurNum1/GurNum/train/2/39.bmp  \n",
            "  inflating: /content/drive/MyDrive/GurNum1/GurNum/train/2/13.bmp  \n",
            "  inflating: /content/drive/MyDrive/GurNum1/GurNum/train/2/11.bmp  \n",
            "  inflating: /content/drive/MyDrive/GurNum1/GurNum/train/2/56.bmp  \n",
            "  inflating: /content/drive/MyDrive/GurNum1/GurNum/train/2/30.bmp  \n",
            "  inflating: /content/drive/MyDrive/GurNum1/GurNum/train/2/3.bmp  \n",
            "  inflating: /content/drive/MyDrive/GurNum1/GurNum/train/2/47.bmp  \n",
            "  inflating: /content/drive/MyDrive/GurNum1/GurNum/train/2/12.bmp  \n",
            "  inflating: /content/drive/MyDrive/GurNum1/GurNum/train/2/37.bmp  \n",
            "  inflating: /content/drive/MyDrive/GurNum1/GurNum/train/2/62.bmp  \n",
            "  inflating: /content/drive/MyDrive/GurNum1/GurNum/train/2/48.bmp  \n",
            "  inflating: /content/drive/MyDrive/GurNum1/GurNum/train/2/22.bmp  \n",
            "  inflating: /content/drive/MyDrive/GurNum1/GurNum/train/3/43.bmp  \n",
            "  inflating: /content/drive/MyDrive/GurNum1/GurNum/train/2/61.bmp  \n",
            "  inflating: /content/drive/MyDrive/GurNum1/GurNum/train/2/94.bmp  \n",
            "  inflating: /content/drive/MyDrive/GurNum1/GurNum/train/2/7.bmp  \n",
            "  inflating: /content/drive/MyDrive/GurNum1/GurNum/train/2/70.bmp  \n",
            "  inflating: /content/drive/MyDrive/GurNum1/GurNum/train/2/4.bmp  \n",
            "  inflating: /content/drive/MyDrive/GurNum1/GurNum/train/2/6.bmp  \n",
            "  inflating: /content/drive/MyDrive/GurNum1/GurNum/train/2/66.bmp  \n",
            "  inflating: /content/drive/MyDrive/GurNum1/GurNum/train/2/44.bmp  \n",
            "  inflating: /content/drive/MyDrive/GurNum1/GurNum/train/2/20.bmp  \n",
            "  inflating: /content/drive/MyDrive/GurNum1/GurNum/train/2/52.bmp  \n",
            "  inflating: /content/drive/MyDrive/GurNum1/GurNum/train/2/51.bmp  \n",
            "  inflating: /content/drive/MyDrive/GurNum1/GurNum/train/2/73.bmp  \n",
            "  inflating: /content/drive/MyDrive/GurNum1/GurNum/train/2/8.bmp  \n",
            "  inflating: /content/drive/MyDrive/GurNum1/GurNum/train/2/14.bmp  \n",
            "  inflating: /content/drive/MyDrive/GurNum1/GurNum/train/2/2.bmp  \n",
            "  inflating: /content/drive/MyDrive/GurNum1/GurNum/train/2/49.bmp  \n",
            "  inflating: /content/drive/MyDrive/GurNum1/GurNum/train/2/31.bmp  \n",
            "  inflating: /content/drive/MyDrive/GurNum1/GurNum/train/2/26.bmp  \n",
            "  inflating: /content/drive/MyDrive/GurNum1/GurNum/train/2/28.bmp  \n",
            "  inflating: /content/drive/MyDrive/GurNum1/GurNum/train/2/42.bmp  \n",
            "  inflating: /content/drive/MyDrive/GurNum1/GurNum/train/2/18.bmp  \n",
            "  inflating: /content/drive/MyDrive/GurNum1/GurNum/train/2/54.bmp  \n",
            "  inflating: /content/drive/MyDrive/GurNum1/GurNum/train/2/76.bmp  \n",
            "  inflating: /content/drive/MyDrive/GurNum1/GurNum/train/2/27.bmp  \n",
            "  inflating: /content/drive/MyDrive/GurNum1/GurNum/train/2/69.bmp  \n",
            "  inflating: /content/drive/MyDrive/GurNum1/GurNum/train/2/33.bmp  \n",
            "  inflating: /content/drive/MyDrive/GurNum1/GurNum/train/2/63.bmp  \n",
            "  inflating: /content/drive/MyDrive/GurNum1/GurNum/train/2/40.bmp  \n",
            "  inflating: /content/drive/MyDrive/GurNum1/GurNum/train/2/19.bmp  \n",
            "  inflating: /content/drive/MyDrive/GurNum1/GurNum/train/2/68.bmp  \n",
            "  inflating: /content/drive/MyDrive/GurNum1/GurNum/train/2/38.bmp  \n",
            "  inflating: /content/drive/MyDrive/GurNum1/GurNum/train/2/53.bmp  \n",
            "  inflating: /content/drive/MyDrive/GurNum1/GurNum/train/2/43.bmp  \n",
            "  inflating: /content/drive/MyDrive/GurNum1/GurNum/train/2/25.bmp  \n",
            "  inflating: /content/drive/MyDrive/GurNum1/GurNum/train/2/58.bmp  \n",
            "  inflating: /content/drive/MyDrive/GurNum1/GurNum/train/2/46.bmp  \n",
            "  inflating: /content/drive/MyDrive/GurNum1/GurNum/train/2/21.bmp  \n",
            "  inflating: /content/drive/MyDrive/GurNum1/GurNum/train/1/93.bmp  \n",
            "  inflating: /content/drive/MyDrive/GurNum1/GurNum/train/2/16.bmp  \n",
            "  inflating: /content/drive/MyDrive/GurNum1/GurNum/train/2/41.bmp  \n",
            "  inflating: /content/drive/MyDrive/GurNum1/GurNum/train/2/34.bmp  \n",
            "  inflating: /content/drive/MyDrive/GurNum1/GurNum/train/1/80.bmp  \n",
            "  inflating: /content/drive/MyDrive/GurNum1/GurNum/train/1/97.bmp  \n",
            "  inflating: /content/drive/MyDrive/GurNum1/GurNum/train/2/17.bmp  \n",
            "  inflating: /content/drive/MyDrive/GurNum1/GurNum/train/2/29.bmp  \n",
            "  inflating: /content/drive/MyDrive/GurNum1/GurNum/train/1/85.bmp  \n",
            "  inflating: /content/drive/MyDrive/GurNum1/GurNum/train/2/64.bmp  \n",
            "  inflating: /content/drive/MyDrive/GurNum1/GurNum/train/1/88.bmp  \n",
            "  inflating: /content/drive/MyDrive/GurNum1/GurNum/train/1/71.bmp  \n",
            "  inflating: /content/drive/MyDrive/GurNum1/GurNum/train/2/71.bmp  \n",
            "  inflating: /content/drive/MyDrive/GurNum1/GurNum/train/2/60.bmp  \n",
            "  inflating: /content/drive/MyDrive/GurNum1/GurNum/train/2/55.bmp  \n",
            "  inflating: /content/drive/MyDrive/GurNum1/GurNum/train/2/65.bmp  \n",
            "  inflating: /content/drive/MyDrive/GurNum1/GurNum/train/1/78.bmp  \n",
            "  inflating: /content/drive/MyDrive/GurNum1/GurNum/train/1/90.bmp  \n",
            "  inflating: /content/drive/MyDrive/GurNum1/GurNum/train/1/76.bmp  \n",
            "  inflating: /content/drive/MyDrive/GurNum1/GurNum/train/2/1.bmp  \n",
            "  inflating: /content/drive/MyDrive/GurNum1/GurNum/train/1/72.bmp  \n",
            "  inflating: /content/drive/MyDrive/GurNum1/GurNum/train/1/75.bmp  \n",
            "  inflating: /content/drive/MyDrive/GurNum1/GurNum/train/1/67.bmp  \n",
            "  inflating: /content/drive/MyDrive/GurNum1/GurNum/train/1/68.bmp  \n",
            "  inflating: /content/drive/MyDrive/GurNum1/GurNum/train/1/74.bmp  \n",
            "  inflating: /content/drive/MyDrive/GurNum1/GurNum/train/1/73.bmp  \n",
            "  inflating: /content/drive/MyDrive/GurNum1/GurNum/train/1/83.bmp  \n",
            "  inflating: /content/drive/MyDrive/GurNum1/GurNum/train/1/70.bmp  \n",
            "  inflating: /content/drive/MyDrive/GurNum1/GurNum/train/1/92.bmp  \n",
            "  inflating: /content/drive/MyDrive/GurNum1/GurNum/train/1/84.bmp  \n",
            "  inflating: /content/drive/MyDrive/GurNum1/GurNum/train/1/86.bmp  \n",
            "  inflating: /content/drive/MyDrive/GurNum1/GurNum/train/1/99.bmp  \n",
            "  inflating: /content/drive/MyDrive/GurNum1/GurNum/train/1/87.bmp  \n",
            "  inflating: /content/drive/MyDrive/GurNum1/GurNum/train/1/98.bmp  \n",
            "  inflating: /content/drive/MyDrive/GurNum1/GurNum/train/1/89.bmp  \n",
            "  inflating: /content/drive/MyDrive/GurNum1/GurNum/train/1/100.bmp  \n",
            "  inflating: /content/drive/MyDrive/GurNum1/GurNum/train/1/12.bmp  \n",
            "  inflating: /content/drive/MyDrive/GurNum1/GurNum/train/1/96.bmp  \n",
            "  inflating: /content/drive/MyDrive/GurNum1/GurNum/train/1/77.bmp  \n",
            "  inflating: /content/drive/MyDrive/GurNum1/GurNum/train/1/36.bmp  \n",
            "  inflating: /content/drive/MyDrive/GurNum1/GurNum/train/1/62.bmp  \n",
            "  inflating: /content/drive/MyDrive/GurNum1/GurNum/train/1/31.bmp  \n",
            "  inflating: /content/drive/MyDrive/GurNum1/GurNum/train/1/45.bmp  \n",
            "  inflating: /content/drive/MyDrive/GurNum1/GurNum/train/1/9.bmp  \n",
            "  inflating: /content/drive/MyDrive/GurNum1/GurNum/train/1/94.bmp  \n",
            "  inflating: /content/drive/MyDrive/GurNum1/GurNum/train/1/79.bmp  \n",
            "  inflating: /content/drive/MyDrive/GurNum1/GurNum/train/1/69.bmp  \n",
            "  inflating: /content/drive/MyDrive/GurNum1/GurNum/train/1/41.bmp  \n",
            "  inflating: /content/drive/MyDrive/GurNum1/GurNum/train/1/81.bmp  \n",
            "  inflating: /content/drive/MyDrive/GurNum1/GurNum/train/1/91.bmp  \n",
            "  inflating: /content/drive/MyDrive/GurNum1/GurNum/train/1/65.bmp  \n",
            "  inflating: /content/drive/MyDrive/GurNum1/GurNum/train/1/95.bmp  \n",
            "  inflating: /content/drive/MyDrive/GurNum1/GurNum/train/1/53.bmp  \n",
            "  inflating: /content/drive/MyDrive/GurNum1/GurNum/train/1/30.bmp  \n",
            "  inflating: /content/drive/MyDrive/GurNum1/GurNum/train/1/18.bmp  \n",
            "  inflating: /content/drive/MyDrive/GurNum1/GurNum/train/1/66.bmp  \n",
            "  inflating: /content/drive/MyDrive/GurNum1/GurNum/train/1/50.bmp  \n",
            "  inflating: /content/drive/MyDrive/GurNum1/GurNum/train/1/51.bmp  \n",
            "  inflating: /content/drive/MyDrive/GurNum1/GurNum/train/1/52.bmp  \n",
            "  inflating: /content/drive/MyDrive/GurNum1/GurNum/train/1/55.bmp  \n",
            "  inflating: /content/drive/MyDrive/GurNum1/GurNum/train/1/44.bmp  \n",
            "  inflating: /content/drive/MyDrive/GurNum1/GurNum/train/1/3.bmp  \n",
            "  inflating: /content/drive/MyDrive/GurNum1/GurNum/train/1/7.bmp  \n",
            "  inflating: /content/drive/MyDrive/GurNum1/GurNum/train/1/5.bmp  \n",
            "  inflating: /content/drive/MyDrive/GurNum1/GurNum/train/1/49.bmp  \n",
            "  inflating: /content/drive/MyDrive/GurNum1/GurNum/train/1/22.bmp  \n",
            "  inflating: /content/drive/MyDrive/GurNum1/GurNum/train/1/82.bmp  \n",
            "  inflating: /content/drive/MyDrive/GurNum1/GurNum/train/1/46.bmp  \n",
            "  inflating: /content/drive/MyDrive/GurNum1/GurNum/train/1/2.bmp  \n",
            "  inflating: /content/drive/MyDrive/GurNum1/GurNum/train/1/27.bmp  \n",
            "  inflating: /content/drive/MyDrive/GurNum1/GurNum/train/1/37.bmp  \n",
            "  inflating: /content/drive/MyDrive/GurNum1/GurNum/train/1/39.bmp  \n",
            "  inflating: /content/drive/MyDrive/GurNum1/GurNum/train/1/17.bmp  \n",
            "  inflating: /content/drive/MyDrive/GurNum1/GurNum/train/1/34.bmp  \n",
            "  inflating: /content/drive/MyDrive/GurNum1/GurNum/train/1/38.bmp  \n",
            "  inflating: /content/drive/MyDrive/GurNum1/GurNum/train/1/60.bmp  \n",
            "  inflating: /content/drive/MyDrive/GurNum1/GurNum/train/1/25.bmp  \n",
            "  inflating: /content/drive/MyDrive/GurNum1/GurNum/train/1/63.bmp  \n",
            "  inflating: /content/drive/MyDrive/GurNum1/GurNum/train/1/23.bmp  \n",
            "  inflating: /content/drive/MyDrive/GurNum1/GurNum/train/1/57.bmp  \n",
            "  inflating: /content/drive/MyDrive/GurNum1/GurNum/train/1/6.bmp  \n",
            "  inflating: /content/drive/MyDrive/GurNum1/GurNum/train/1/64.bmp  \n",
            "  inflating: /content/drive/MyDrive/GurNum1/GurNum/train/1/28.bmp  \n",
            "  inflating: /content/drive/MyDrive/GurNum1/GurNum/train/1/4.bmp  \n",
            "  inflating: /content/drive/MyDrive/GurNum1/GurNum/train/1/59.bmp  \n",
            "  inflating: /content/drive/MyDrive/GurNum1/GurNum/train/1/40.bmp  \n",
            "  inflating: /content/drive/MyDrive/GurNum1/GurNum/train/1/16.bmp  \n",
            "  inflating: /content/drive/MyDrive/GurNum1/GurNum/train/1/54.bmp  \n",
            "  inflating: /content/drive/MyDrive/GurNum1/GurNum/train/1/35.bmp  \n",
            "  inflating: /content/drive/MyDrive/GurNum1/GurNum/train/1/58.bmp  \n",
            "  inflating: /content/drive/MyDrive/GurNum1/GurNum/train/1/11.bmp  \n",
            "  inflating: /content/drive/MyDrive/GurNum1/GurNum/train/1/48.bmp  \n",
            "  inflating: /content/drive/MyDrive/GurNum1/GurNum/train/5/31.bmp  \n",
            "  inflating: /content/drive/MyDrive/GurNum1/GurNum/train/1/42.bmp  \n",
            "  inflating: /content/drive/MyDrive/GurNum1/GurNum/train/5/46.bmp  \n",
            "  inflating: /content/drive/MyDrive/GurNum1/GurNum/train/1/1.bmp  \n",
            "  inflating: /content/drive/MyDrive/GurNum1/GurNum/train/1/19.bmp  \n",
            "  inflating: /content/drive/MyDrive/GurNum1/GurNum/train/1/26.bmp  \n",
            "  inflating: /content/drive/MyDrive/GurNum1/GurNum/train/1/24.bmp  \n",
            "  inflating: /content/drive/MyDrive/GurNum1/GurNum/train/1/47.bmp  \n",
            "  inflating: /content/drive/MyDrive/GurNum1/GurNum/train/1/14.bmp  \n",
            "  inflating: /content/drive/MyDrive/GurNum1/GurNum/train/5/90.bmp  \n",
            "  inflating: /content/drive/MyDrive/GurNum1/GurNum/train/1/10.bmp  \n",
            "  inflating: /content/drive/MyDrive/GurNum1/GurNum/train/1/61.bmp  \n",
            "  inflating: /content/drive/MyDrive/GurNum1/GurNum/train/1/13.bmp  \n",
            "  inflating: /content/drive/MyDrive/GurNum1/GurNum/train/5/68.bmp  \n",
            "  inflating: /content/drive/MyDrive/GurNum1/GurNum/train/1/15.bmp  \n",
            "  inflating: /content/drive/MyDrive/GurNum1/GurNum/train/5/13.bmp  \n",
            "  inflating: /content/drive/MyDrive/GurNum1/GurNum/train/1/21.bmp  \n",
            "  inflating: /content/drive/MyDrive/GurNum1/GurNum/train/1/32.bmp  \n",
            "  inflating: /content/drive/MyDrive/GurNum1/GurNum/train/5/36.bmp  \n",
            "  inflating: /content/drive/MyDrive/GurNum1/GurNum/train/1/56.bmp  \n",
            "  inflating: /content/drive/MyDrive/GurNum1/GurNum/train/1/20.bmp  \n",
            "  inflating: /content/drive/MyDrive/GurNum1/GurNum/train/1/29.bmp  \n",
            "  inflating: /content/drive/MyDrive/GurNum1/GurNum/train/1/43.bmp  \n",
            "  inflating: /content/drive/MyDrive/GurNum1/GurNum/train/5/87.bmp  \n",
            "  inflating: /content/drive/MyDrive/GurNum1/GurNum/train/1/33.bmp  \n",
            "  inflating: /content/drive/MyDrive/GurNum1/GurNum/train/5/61.bmp  \n",
            "  inflating: /content/drive/MyDrive/GurNum1/GurNum/train/1/8.bmp  \n",
            "  inflating: /content/drive/MyDrive/GurNum1/GurNum/train/5/64.bmp  \n",
            "  inflating: /content/drive/MyDrive/GurNum1/GurNum/train/5/6.bmp  \n",
            "  inflating: /content/drive/MyDrive/GurNum1/GurNum/train/5/69.bmp  \n",
            "  inflating: /content/drive/MyDrive/GurNum1/GurNum/train/5/74.bmp  \n",
            "  inflating: /content/drive/MyDrive/GurNum1/GurNum/train/5/16.bmp  \n",
            "  inflating: /content/drive/MyDrive/GurNum1/GurNum/train/5/95.bmp  \n",
            "  inflating: /content/drive/MyDrive/GurNum1/GurNum/train/5/78.bmp  \n",
            "  inflating: /content/drive/MyDrive/GurNum1/GurNum/train/5/27.bmp  \n",
            "  inflating: /content/drive/MyDrive/GurNum1/GurNum/train/5/26.bmp  \n",
            "  inflating: /content/drive/MyDrive/GurNum1/GurNum/train/5/77.bmp  \n",
            "  inflating: /content/drive/MyDrive/GurNum1/GurNum/train/5/17.bmp  \n",
            "  inflating: /content/drive/MyDrive/GurNum1/GurNum/train/5/71.bmp  \n",
            "  inflating: /content/drive/MyDrive/GurNum1/GurNum/train/5/85.bmp  \n",
            "  inflating: /content/drive/MyDrive/GurNum1/GurNum/train/5/72.bmp  \n",
            "  inflating: /content/drive/MyDrive/GurNum1/GurNum/train/5/88.bmp  \n",
            "  inflating: /content/drive/MyDrive/GurNum1/GurNum/train/5/55.bmp  \n",
            "  inflating: /content/drive/MyDrive/GurNum1/GurNum/train/5/11.bmp  \n",
            "  inflating: /content/drive/MyDrive/GurNum1/GurNum/train/5/60.bmp  \n",
            "  inflating: /content/drive/MyDrive/GurNum1/GurNum/train/5/35.bmp  \n",
            "  inflating: /content/drive/MyDrive/GurNum1/GurNum/train/5/94.bmp  \n",
            "  inflating: /content/drive/MyDrive/GurNum1/GurNum/train/5/24.bmp  \n",
            "  inflating: /content/drive/MyDrive/GurNum1/GurNum/train/5/53.bmp  \n",
            "  inflating: /content/drive/MyDrive/GurNum1/GurNum/train/5/41.bmp  \n",
            "  inflating: /content/drive/MyDrive/GurNum1/GurNum/train/5/39.bmp  \n",
            "  inflating: /content/drive/MyDrive/GurNum1/GurNum/train/5/15.bmp  \n",
            "  inflating: /content/drive/MyDrive/GurNum1/GurNum/train/5/81.bmp  \n",
            "  inflating: /content/drive/MyDrive/GurNum1/GurNum/train/5/93.bmp  \n",
            "  inflating: /content/drive/MyDrive/GurNum1/GurNum/train/5/96.bmp  \n",
            "  inflating: /content/drive/MyDrive/GurNum1/GurNum/train/5/89.bmp  \n",
            "  inflating: /content/drive/MyDrive/GurNum1/GurNum/train/5/58.bmp  \n",
            "  inflating: /content/drive/MyDrive/GurNum1/GurNum/train/5/76.bmp  \n",
            "  inflating: /content/drive/MyDrive/GurNum1/GurNum/train/5/37.bmp  \n",
            "  inflating: /content/drive/MyDrive/GurNum1/GurNum/train/5/3.bmp  \n",
            "  inflating: /content/drive/MyDrive/GurNum1/GurNum/train/5/44.bmp  \n",
            "  inflating: /content/drive/MyDrive/GurNum1/GurNum/train/5/30.bmp  \n",
            "  inflating: /content/drive/MyDrive/GurNum1/GurNum/train/5/8.bmp  \n",
            "  inflating: /content/drive/MyDrive/GurNum1/GurNum/train/5/51.bmp  \n",
            "  inflating: /content/drive/MyDrive/GurNum1/GurNum/train/5/42.bmp  \n",
            "  inflating: /content/drive/MyDrive/GurNum1/GurNum/train/5/62.bmp  \n",
            "  inflating: /content/drive/MyDrive/GurNum1/GurNum/train/5/45.bmp  \n",
            "  inflating: /content/drive/MyDrive/GurNum1/GurNum/train/5/9.bmp  \n",
            "  inflating: /content/drive/MyDrive/GurNum1/GurNum/train/5/73.bmp  \n",
            "  inflating: /content/drive/MyDrive/GurNum1/GurNum/train/5/23.bmp  \n",
            "  inflating: /content/drive/MyDrive/GurNum1/GurNum/train/5/98.bmp  \n",
            "  inflating: /content/drive/MyDrive/GurNum1/GurNum/train/5/20.bmp  \n",
            "  inflating: /content/drive/MyDrive/GurNum1/GurNum/train/5/48.bmp  \n",
            "  inflating: /content/drive/MyDrive/GurNum1/GurNum/train/5/32.bmp  \n",
            "  inflating: /content/drive/MyDrive/GurNum1/GurNum/train/5/25.bmp  \n",
            "  inflating: /content/drive/MyDrive/GurNum1/GurNum/train/5/47.bmp  \n",
            "  inflating: /content/drive/MyDrive/GurNum1/GurNum/train/5/52.bmp  \n",
            "  inflating: /content/drive/MyDrive/GurNum1/GurNum/train/5/91.bmp  \n",
            "  inflating: /content/drive/MyDrive/GurNum1/GurNum/train/5/19.bmp  \n",
            "  inflating: /content/drive/MyDrive/GurNum1/GurNum/train/5/12.bmp  \n",
            "  inflating: /content/drive/MyDrive/GurNum1/GurNum/train/5/59.bmp  \n",
            "  inflating: /content/drive/MyDrive/GurNum1/GurNum/train/5/5.bmp  \n",
            "  inflating: /content/drive/MyDrive/GurNum1/GurNum/train/5/43.bmp  \n",
            "  inflating: /content/drive/MyDrive/GurNum1/GurNum/train/5/56.bmp  \n",
            "  inflating: /content/drive/MyDrive/GurNum1/GurNum/train/5/66.bmp  \n",
            "  inflating: /content/drive/MyDrive/GurNum1/GurNum/train/5/92.bmp  \n",
            "  inflating: /content/drive/MyDrive/GurNum1/GurNum/train/5/18.bmp  \n",
            "  inflating: /content/drive/MyDrive/GurNum1/GurNum/train/5/67.bmp  \n",
            "  inflating: /content/drive/MyDrive/GurNum1/GurNum/train/5/1.bmp  \n",
            "  inflating: /content/drive/MyDrive/GurNum1/GurNum/train/5/49.bmp  \n",
            "  inflating: /content/drive/MyDrive/GurNum1/GurNum/train/5/75.bmp  \n",
            "  inflating: /content/drive/MyDrive/GurNum1/GurNum/train/5/10.bmp  \n",
            "  inflating: /content/drive/MyDrive/GurNum1/GurNum/train/5/54.bmp  \n",
            "  inflating: /content/drive/MyDrive/GurNum1/GurNum/train/5/99.bmp  \n",
            "  inflating: /content/drive/MyDrive/GurNum1/GurNum/train/5/34.bmp  \n",
            "  inflating: /content/drive/MyDrive/GurNum1/GurNum/train/5/97.bmp  \n",
            "  inflating: /content/drive/MyDrive/GurNum1/GurNum/train/5/21.bmp  \n",
            "  inflating: /content/drive/MyDrive/GurNum1/GurNum/train/5/83.bmp  \n",
            "  inflating: /content/drive/MyDrive/GurNum1/GurNum/train/5/65.bmp  \n",
            "  inflating: /content/drive/MyDrive/GurNum1/GurNum/train/5/14.bmp  \n",
            "  inflating: /content/drive/MyDrive/GurNum1/GurNum/train/5/29.bmp  \n",
            "  inflating: /content/drive/MyDrive/GurNum1/GurNum/train/5/100.bmp  \n",
            "  inflating: /content/drive/MyDrive/GurNum1/GurNum/train/5/80.bmp  \n",
            "  inflating: /content/drive/MyDrive/GurNum1/GurNum/train/5/86.bmp  \n",
            "  inflating: /content/drive/MyDrive/GurNum1/GurNum/train/5/50.bmp  \n",
            "  inflating: /content/drive/MyDrive/GurNum1/GurNum/train/0/58.bmp  \n",
            "  inflating: /content/drive/MyDrive/GurNum1/GurNum/train/5/4.bmp  \n",
            "  inflating: /content/drive/MyDrive/GurNum1/GurNum/train/5/38.bmp  \n",
            "  inflating: /content/drive/MyDrive/GurNum1/GurNum/train/5/7.bmp  \n",
            "  inflating: /content/drive/MyDrive/GurNum1/GurNum/train/0/99.bmp  \n",
            "  inflating: /content/drive/MyDrive/GurNum1/GurNum/train/5/79.bmp  \n",
            "  inflating: /content/drive/MyDrive/GurNum1/GurNum/train/0/90.bmp  \n",
            "  inflating: /content/drive/MyDrive/GurNum1/GurNum/train/5/57.bmp  \n",
            "  inflating: /content/drive/MyDrive/GurNum1/GurNum/train/5/40.bmp  \n",
            "  inflating: /content/drive/MyDrive/GurNum1/GurNum/train/0/36.bmp  \n",
            "  inflating: /content/drive/MyDrive/GurNum1/GurNum/train/5/63.bmp  \n",
            "  inflating: /content/drive/MyDrive/GurNum1/GurNum/train/5/2.bmp  \n",
            "  inflating: /content/drive/MyDrive/GurNum1/GurNum/train/0/82.bmp  \n",
            "  inflating: /content/drive/MyDrive/GurNum1/GurNum/train/5/33.bmp  \n",
            "  inflating: /content/drive/MyDrive/GurNum1/GurNum/train/0/56.bmp  \n",
            "  inflating: /content/drive/MyDrive/GurNum1/GurNum/train/5/28.bmp  \n",
            "  inflating: /content/drive/MyDrive/GurNum1/GurNum/train/0/83.bmp  \n",
            "  inflating: /content/drive/MyDrive/GurNum1/GurNum/train/5/70.bmp  \n",
            "  inflating: /content/drive/MyDrive/GurNum1/GurNum/train/0/71.bmp  \n",
            "  inflating: /content/drive/MyDrive/GurNum1/GurNum/train/0/41.bmp  \n",
            "  inflating: /content/drive/MyDrive/GurNum1/GurNum/train/0/44.bmp  \n",
            "  inflating: /content/drive/MyDrive/GurNum1/GurNum/train/0/32.bmp  \n",
            "  inflating: /content/drive/MyDrive/GurNum1/GurNum/train/0/54.bmp  \n",
            "  inflating: /content/drive/MyDrive/GurNum1/GurNum/train/0/85.bmp  \n",
            "  inflating: /content/drive/MyDrive/GurNum1/GurNum/train/0/67.bmp  \n",
            "  inflating: /content/drive/MyDrive/GurNum1/GurNum/train/0/38.bmp  \n",
            "  inflating: /content/drive/MyDrive/GurNum1/GurNum/train/0/65.bmp  \n",
            "  inflating: /content/drive/MyDrive/GurNum1/GurNum/train/0/88.bmp  \n",
            "  inflating: /content/drive/MyDrive/GurNum1/GurNum/train/0/66.bmp  \n",
            "  inflating: /content/drive/MyDrive/GurNum1/GurNum/train/0/26.bmp  \n",
            "  inflating: /content/drive/MyDrive/GurNum1/GurNum/train/0/79.bmp  \n",
            "  inflating: /content/drive/MyDrive/GurNum1/GurNum/train/5/22.bmp  \n",
            "  inflating: /content/drive/MyDrive/GurNum1/GurNum/train/0/75.bmp  \n",
            "  inflating: /content/drive/MyDrive/GurNum1/GurNum/train/0/86.bmp  \n",
            "  inflating: /content/drive/MyDrive/GurNum1/GurNum/train/0/57.bmp  \n",
            "  inflating: /content/drive/MyDrive/GurNum1/GurNum/train/0/80.bmp  \n",
            "  inflating: /content/drive/MyDrive/GurNum1/GurNum/train/5/84.bmp  \n",
            "  inflating: /content/drive/MyDrive/GurNum1/GurNum/train/0/87.bmp  \n",
            "  inflating: /content/drive/MyDrive/GurNum1/GurNum/train/0/45.bmp  \n",
            "  inflating: /content/drive/MyDrive/GurNum1/GurNum/train/0/39.bmp  \n",
            "  inflating: /content/drive/MyDrive/GurNum1/GurNum/train/0/55.bmp  \n",
            "  inflating: /content/drive/MyDrive/GurNum1/GurNum/train/0/50.bmp  \n",
            "  inflating: /content/drive/MyDrive/GurNum1/GurNum/train/0/42.bmp  \n",
            "  inflating: /content/drive/MyDrive/GurNum1/GurNum/train/0/60.bmp  \n",
            "  inflating: /content/drive/MyDrive/GurNum1/GurNum/train/0/62.bmp  \n",
            "  inflating: /content/drive/MyDrive/GurNum1/GurNum/train/0/34.bmp  \n",
            "  inflating: /content/drive/MyDrive/GurNum1/GurNum/train/0/31.bmp  \n",
            "  inflating: /content/drive/MyDrive/GurNum1/GurNum/train/0/92.bmp  \n",
            "  inflating: /content/drive/MyDrive/GurNum1/GurNum/train/0/89.bmp  \n",
            "  inflating: /content/drive/MyDrive/GurNum1/GurNum/train/0/95.bmp  \n",
            "  inflating: /content/drive/MyDrive/GurNum1/GurNum/train/0/69.bmp  \n",
            "  inflating: /content/drive/MyDrive/GurNum1/GurNum/train/0/97.bmp  \n",
            "  inflating: /content/drive/MyDrive/GurNum1/GurNum/train/0/30.bmp  \n",
            "  inflating: /content/drive/MyDrive/GurNum1/GurNum/train/0/74.bmp  \n",
            "  inflating: /content/drive/MyDrive/GurNum1/GurNum/train/0/35.bmp  \n",
            "  inflating: /content/drive/MyDrive/GurNum1/GurNum/train/5/82.bmp  \n",
            "  inflating: /content/drive/MyDrive/GurNum1/GurNum/train/0/63.bmp  \n",
            "  inflating: /content/drive/MyDrive/GurNum1/GurNum/train/0/43.bmp  \n",
            "  inflating: /content/drive/MyDrive/GurNum1/GurNum/train/0/81.bmp  \n",
            "  inflating: /content/drive/MyDrive/GurNum1/GurNum/train/0/78.bmp  \n",
            "  inflating: /content/drive/MyDrive/GurNum1/GurNum/train/0/28.bmp  \n",
            "  inflating: /content/drive/MyDrive/GurNum1/GurNum/train/0/51.bmp  \n",
            "  inflating: /content/drive/MyDrive/GurNum1/GurNum/train/0/37.bmp  \n",
            "  inflating: /content/drive/MyDrive/GurNum1/GurNum/train/0/96.bmp  \n",
            "  inflating: /content/drive/MyDrive/GurNum1/GurNum/train/0/52.bmp  \n",
            "  inflating: /content/drive/MyDrive/GurNum1/GurNum/train/0/46.bmp  \n",
            "  inflating: /content/drive/MyDrive/GurNum1/GurNum/train/0/59.bmp  \n",
            "  inflating: /content/drive/MyDrive/GurNum1/GurNum/train/0/98.bmp  \n",
            "  inflating: /content/drive/MyDrive/GurNum1/GurNum/train/0/48.bmp  \n",
            "  inflating: /content/drive/MyDrive/GurNum1/GurNum/train/0/77.bmp  \n",
            "  inflating: /content/drive/MyDrive/GurNum1/GurNum/train/0/47.bmp  \n",
            "  inflating: /content/drive/MyDrive/GurNum1/GurNum/train/0/93.bmp  \n",
            "  inflating: /content/drive/MyDrive/GurNum1/GurNum/train/0/33.bmp  \n",
            "  inflating: /content/drive/MyDrive/GurNum1/GurNum/train/8/83.bmp  \n",
            "  inflating: /content/drive/MyDrive/GurNum1/GurNum/train/0/29.bmp  \n",
            "  inflating: /content/drive/MyDrive/GurNum1/GurNum/train/0/91.bmp  \n",
            "  inflating: /content/drive/MyDrive/GurNum1/GurNum/train/8/95.bmp  \n",
            "  inflating: /content/drive/MyDrive/GurNum1/GurNum/train/0/61.bmp  \n",
            "  inflating: /content/drive/MyDrive/GurNum1/GurNum/train/0/11.bmp  \n",
            "  inflating: /content/drive/MyDrive/GurNum1/GurNum/train/0/64.bmp  \n",
            "  inflating: /content/drive/MyDrive/GurNum1/GurNum/train/0/16.bmp  \n",
            "  inflating: /content/drive/MyDrive/GurNum1/GurNum/train/0/10.bmp  \n",
            "  inflating: /content/drive/MyDrive/GurNum1/GurNum/train/0/68.bmp  \n",
            "  inflating: /content/drive/MyDrive/GurNum1/GurNum/train/8/99.bmp  \n",
            "  inflating: /content/drive/MyDrive/GurNum1/GurNum/train/0/40.bmp  \n",
            "  inflating: /content/drive/MyDrive/GurNum1/GurNum/train/0/22.bmp  \n",
            "  inflating: /content/drive/MyDrive/GurNum1/GurNum/train/0/24.bmp  \n",
            "  inflating: /content/drive/MyDrive/GurNum1/GurNum/train/0/73.bmp  \n",
            "  inflating: /content/drive/MyDrive/GurNum1/GurNum/train/0/72.bmp  \n",
            "  inflating: /content/drive/MyDrive/GurNum1/GurNum/train/0/27.bmp  \n",
            "  inflating: /content/drive/MyDrive/GurNum1/GurNum/train/0/70.bmp  \n",
            "  inflating: /content/drive/MyDrive/GurNum1/GurNum/train/8/91.bmp  \n",
            "  inflating: /content/drive/MyDrive/GurNum1/GurNum/train/0/13.bmp  \n",
            "  inflating: /content/drive/MyDrive/GurNum1/GurNum/train/8/86.bmp  \n",
            "  inflating: /content/drive/MyDrive/GurNum1/GurNum/train/0/94.bmp  \n",
            "  inflating: /content/drive/MyDrive/GurNum1/GurNum/train/0/3.bmp  \n",
            "  inflating: /content/drive/MyDrive/GurNum1/GurNum/train/0/12.bmp  \n",
            "  inflating: /content/drive/MyDrive/GurNum1/GurNum/train/8/94.bmp  \n",
            "  inflating: /content/drive/MyDrive/GurNum1/GurNum/train/0/84.bmp  \n",
            "  inflating: /content/drive/MyDrive/GurNum1/GurNum/train/0/9.bmp  \n",
            "  inflating: /content/drive/MyDrive/GurNum1/GurNum/train/8/82.bmp  \n",
            "  inflating: /content/drive/MyDrive/GurNum1/GurNum/train/0/8.bmp  \n",
            "  inflating: /content/drive/MyDrive/GurNum1/GurNum/train/0/49.bmp  \n",
            "  inflating: /content/drive/MyDrive/GurNum1/GurNum/train/0/76.bmp  \n",
            "  inflating: /content/drive/MyDrive/GurNum1/GurNum/train/8/77.bmp  \n",
            "  inflating: /content/drive/MyDrive/GurNum1/GurNum/train/8/85.bmp  \n",
            "  inflating: /content/drive/MyDrive/GurNum1/GurNum/train/0/21.bmp  \n",
            "  inflating: /content/drive/MyDrive/GurNum1/GurNum/train/8/80.bmp  \n",
            "  inflating: /content/drive/MyDrive/GurNum1/GurNum/train/8/98.bmp  \n",
            "  inflating: /content/drive/MyDrive/GurNum1/GurNum/train/8/97.bmp  \n",
            "  inflating: /content/drive/MyDrive/GurNum1/GurNum/train/8/88.bmp  \n",
            "  inflating: /content/drive/MyDrive/GurNum1/GurNum/train/0/20.bmp  \n",
            "  inflating: /content/drive/MyDrive/GurNum1/GurNum/train/8/92.bmp  \n",
            "  inflating: /content/drive/MyDrive/GurNum1/GurNum/train/0/25.bmp  \n",
            "  inflating: /content/drive/MyDrive/GurNum1/GurNum/train/0/4.bmp  \n",
            "  inflating: /content/drive/MyDrive/GurNum1/GurNum/train/0/53.bmp  \n",
            "  inflating: /content/drive/MyDrive/GurNum1/GurNum/train/8/93.bmp  \n",
            "  inflating: /content/drive/MyDrive/GurNum1/GurNum/train/0/15.bmp  \n",
            "  inflating: /content/drive/MyDrive/GurNum1/GurNum/train/0/18.bmp  \n",
            "  inflating: /content/drive/MyDrive/GurNum1/GurNum/train/0/19.bmp  \n",
            "  inflating: /content/drive/MyDrive/GurNum1/GurNum/train/8/81.bmp  \n",
            "  inflating: /content/drive/MyDrive/GurNum1/GurNum/train/8/96.bmp  \n",
            "  inflating: /content/drive/MyDrive/GurNum1/GurNum/train/8/78.bmp  \n",
            "  inflating: /content/drive/MyDrive/GurNum1/GurNum/train/0/1.bmp  \n",
            "  inflating: /content/drive/MyDrive/GurNum1/GurNum/train/0/5.bmp  \n",
            "  inflating: /content/drive/MyDrive/GurNum1/GurNum/train/0/23.bmp  \n",
            "  inflating: /content/drive/MyDrive/GurNum1/GurNum/train/8/90.bmp  \n",
            "  inflating: /content/drive/MyDrive/GurNum1/GurNum/train/0/100.bmp  \n",
            "  inflating: /content/drive/MyDrive/GurNum1/GurNum/train/0/17.bmp  \n",
            "  inflating: /content/drive/MyDrive/GurNum1/GurNum/train/8/58.bmp  \n",
            "  inflating: /content/drive/MyDrive/GurNum1/GurNum/train/8/89.bmp  \n",
            "  inflating: /content/drive/MyDrive/GurNum1/GurNum/train/8/79.bmp  \n",
            "  inflating: /content/drive/MyDrive/GurNum1/GurNum/train/8/69.bmp  \n",
            "  inflating: /content/drive/MyDrive/GurNum1/GurNum/train/8/100.bmp  \n",
            "  inflating: /content/drive/MyDrive/GurNum1/GurNum/train/8/84.bmp  \n",
            "  inflating: /content/drive/MyDrive/GurNum1/GurNum/train/8/76.bmp  \n",
            "  inflating: /content/drive/MyDrive/GurNum1/GurNum/train/0/2.bmp  \n",
            "  inflating: /content/drive/MyDrive/GurNum1/GurNum/train/8/7.bmp  \n",
            "  inflating: /content/drive/MyDrive/GurNum1/GurNum/train/8/65.bmp  \n",
            "  inflating: /content/drive/MyDrive/GurNum1/GurNum/train/8/3.bmp  \n",
            "  inflating: /content/drive/MyDrive/GurNum1/GurNum/train/0/14.bmp  \n",
            "  inflating: /content/drive/MyDrive/GurNum1/GurNum/train/8/26.bmp  \n",
            "  inflating: /content/drive/MyDrive/GurNum1/GurNum/train/8/87.bmp  \n",
            "  inflating: /content/drive/MyDrive/GurNum1/GurNum/train/8/17.bmp  \n",
            "  inflating: /content/drive/MyDrive/GurNum1/GurNum/train/0/7.bmp  \n",
            "  inflating: /content/drive/MyDrive/GurNum1/GurNum/train/8/23.bmp  \n",
            "  inflating: /content/drive/MyDrive/GurNum1/GurNum/train/8/39.bmp  \n",
            "  inflating: /content/drive/MyDrive/GurNum1/GurNum/train/8/62.bmp  \n",
            "  inflating: /content/drive/MyDrive/GurNum1/GurNum/train/8/42.bmp  \n",
            "  inflating: /content/drive/MyDrive/GurNum1/GurNum/train/8/72.bmp  \n",
            "  inflating: /content/drive/MyDrive/GurNum1/GurNum/train/8/66.bmp  \n",
            "  inflating: /content/drive/MyDrive/GurNum1/GurNum/train/8/51.bmp  \n",
            "  inflating: /content/drive/MyDrive/GurNum1/GurNum/train/8/36.bmp  \n",
            "  inflating: /content/drive/MyDrive/GurNum1/GurNum/train/8/38.bmp  \n",
            "  inflating: /content/drive/MyDrive/GurNum1/GurNum/train/8/30.bmp  \n",
            "  inflating: /content/drive/MyDrive/GurNum1/GurNum/train/8/40.bmp  \n",
            "  inflating: /content/drive/MyDrive/GurNum1/GurNum/train/8/18.bmp  \n",
            "  inflating: /content/drive/MyDrive/GurNum1/GurNum/train/8/12.bmp  \n",
            "  inflating: /content/drive/MyDrive/GurNum1/GurNum/train/8/41.bmp  \n",
            "  inflating: /content/drive/MyDrive/GurNum1/GurNum/train/8/44.bmp  \n",
            "  inflating: /content/drive/MyDrive/GurNum1/GurNum/train/8/54.bmp  \n",
            "  inflating: /content/drive/MyDrive/GurNum1/GurNum/train/8/71.bmp  \n",
            "  inflating: /content/drive/MyDrive/GurNum1/GurNum/train/8/37.bmp  \n",
            "  inflating: /content/drive/MyDrive/GurNum1/GurNum/train/8/57.bmp  \n",
            "  inflating: /content/drive/MyDrive/GurNum1/GurNum/train/8/48.bmp  \n",
            "  inflating: /content/drive/MyDrive/GurNum1/GurNum/train/8/11.bmp  \n",
            "  inflating: /content/drive/MyDrive/GurNum1/GurNum/train/8/5.bmp  \n",
            "  inflating: /content/drive/MyDrive/GurNum1/GurNum/train/8/67.bmp  \n",
            "  inflating: /content/drive/MyDrive/GurNum1/GurNum/train/8/33.bmp  \n",
            "  inflating: /content/drive/MyDrive/GurNum1/GurNum/train/8/19.bmp  \n",
            "  inflating: /content/drive/MyDrive/GurNum1/GurNum/train/8/75.bmp  \n",
            "  inflating: /content/drive/MyDrive/GurNum1/GurNum/train/8/46.bmp  \n",
            "  inflating: /content/drive/MyDrive/GurNum1/GurNum/train/8/2.bmp  \n",
            "  inflating: /content/drive/MyDrive/GurNum1/GurNum/train/8/28.bmp  \n",
            "  inflating: /content/drive/MyDrive/GurNum1/GurNum/train/8/15.bmp  \n",
            "  inflating: /content/drive/MyDrive/GurNum1/GurNum/train/0/6.bmp  \n",
            "  inflating: /content/drive/MyDrive/GurNum1/GurNum/train/8/52.bmp  \n",
            "  inflating: /content/drive/MyDrive/GurNum1/GurNum/train/8/64.bmp  \n",
            "  inflating: /content/drive/MyDrive/GurNum1/GurNum/train/8/34.bmp  \n",
            "  inflating: /content/drive/MyDrive/GurNum1/GurNum/train/8/55.bmp  \n",
            "  inflating: /content/drive/MyDrive/GurNum1/GurNum/train/8/61.bmp  \n",
            "  inflating: /content/drive/MyDrive/GurNum1/GurNum/train/8/13.bmp  \n",
            "  inflating: /content/drive/MyDrive/GurNum1/GurNum/train/8/31.bmp  \n",
            "  inflating: /content/drive/MyDrive/GurNum1/GurNum/train/8/8.bmp  \n",
            "  inflating: /content/drive/MyDrive/GurNum1/GurNum/train/8/73.bmp  \n",
            "  inflating: /content/drive/MyDrive/GurNum1/GurNum/train/8/53.bmp  \n",
            "  inflating: /content/drive/MyDrive/GurNum1/GurNum/train/8/70.bmp  \n",
            "  inflating: /content/drive/MyDrive/GurNum1/GurNum/train/8/16.bmp  \n",
            "  inflating: /content/drive/MyDrive/GurNum1/GurNum/train/8/1.bmp  \n",
            "  inflating: /content/drive/MyDrive/GurNum1/GurNum/train/8/25.bmp  \n",
            "  inflating: /content/drive/MyDrive/GurNum1/GurNum/train/8/24.bmp  \n",
            "  inflating: /content/drive/MyDrive/GurNum1/GurNum/train/8/21.bmp  \n",
            "  inflating: /content/drive/MyDrive/GurNum1/GurNum/train/8/47.bmp  \n",
            "  inflating: /content/drive/MyDrive/GurNum1/GurNum/train/8/74.bmp  \n",
            "  inflating: /content/drive/MyDrive/GurNum1/GurNum/train/8/49.bmp  \n",
            "  inflating: /content/drive/MyDrive/GurNum1/GurNum/train/8/10.bmp  \n",
            "  inflating: /content/drive/MyDrive/GurNum1/GurNum/train/8/4.bmp  \n",
            "  inflating: /content/drive/MyDrive/GurNum1/GurNum/train/8/9.bmp  \n",
            "  inflating: /content/drive/MyDrive/GurNum1/GurNum/train/8/29.bmp  \n",
            "  inflating: /content/drive/MyDrive/GurNum1/GurNum/train/8/14.bmp  \n",
            "  inflating: /content/drive/MyDrive/GurNum1/GurNum/train/8/45.bmp  \n",
            "  inflating: /content/drive/MyDrive/GurNum1/GurNum/train/8/60.bmp  \n",
            "  inflating: /content/drive/MyDrive/GurNum1/GurNum/train/8/68.bmp  \n",
            "  inflating: /content/drive/MyDrive/GurNum1/GurNum/train/8/22.bmp  \n",
            "  inflating: /content/drive/MyDrive/GurNum1/GurNum/train/8/56.bmp  \n",
            "  inflating: /content/drive/MyDrive/GurNum1/GurNum/train/8/35.bmp  \n",
            "  inflating: /content/drive/MyDrive/GurNum1/GurNum/train/8/6.bmp  \n",
            "  inflating: /content/drive/MyDrive/GurNum1/GurNum/train/8/59.bmp  \n",
            "  inflating: /content/drive/MyDrive/GurNum1/GurNum/train/8/20.bmp  \n",
            "  inflating: /content/drive/MyDrive/GurNum1/GurNum/train/8/50.bmp  \n",
            "  inflating: /content/drive/MyDrive/GurNum1/GurNum/train/8/43.bmp  \n",
            "  inflating: /content/drive/MyDrive/GurNum1/GurNum/train/8/27.bmp  \n",
            "  inflating: /content/drive/MyDrive/GurNum1/GurNum/train/8/63.bmp  \n",
            "  inflating: /content/drive/MyDrive/GurNum1/GurNum/train/8/32.bmp  \n"
          ]
        }
      ],
      "source": [
        "!unzip /content/drive/MyDrive/GurNum-20230125T181437Z-001.zip -d /content/drive/MyDrive/GurNum1"
      ]
    },
    {
      "cell_type": "code",
      "execution_count": 1,
      "metadata": {
        "id": "SKcvL2hzwd6M"
      },
      "outputs": [],
      "source": [
        "import os\n",
        "from PIL import Image\n",
        "import numpy as np"
      ]
    },
    {
      "cell_type": "code",
      "execution_count": 50,
      "metadata": {
        "id": "UneIj5eGA-S8"
      },
      "outputs": [],
      "source": [
        "folders = [\"/content/drive/MyDrive/GurNum1/GurNum/train/0\",\"/content/drive/MyDrive/GurNum1/GurNum/train/1\",\"/content/drive/MyDrive/GurNum1/GurNum/train/2\",\"/content/drive/MyDrive/GurNum1/GurNum/train/3\",\"/content/drive/MyDrive/GurNum1/GurNum/train/4\",\"/content/drive/MyDrive/GurNum1/GurNum/train/5\",\"/content/drive/MyDrive/GurNum1/GurNum/train/6\",\"/content/drive/MyDrive/GurNum1/GurNum/train/7\",\"/content/drive/MyDrive/GurNum1/GurNum/train/8\",\"/content/drive/MyDrive/GurNum1/GurNum/train/9\"]"
      ]
    },
    {
      "cell_type": "code",
      "execution_count": 51,
      "metadata": {
        "id": "nATomx67A-Pi"
      },
      "outputs": [],
      "source": [
        "images=[]               # Dataset will be stored as a list in images"
      ]
    },
    {
      "cell_type": "code",
      "execution_count": 52,
      "metadata": {
        "id": "zNFhvkjaB4kD"
      },
      "outputs": [],
      "source": [
        "for i,folder in enumerate(folders):\n",
        "  for file in os.listdir(folder):\n",
        "    if file.endswith(\".bmp\"):\n",
        "      img_path=os.path.join(folder,file)        # path of images joined using os\n",
        "      img=Image.open(img_path).convert(\"L\")     # Use PIL library to import images\n",
        "      img_array=np.array(img,dtype=np.float32)\n",
        "      images.append((img_array,i))              # Labels are the index values"
      ]
    },
    {
      "cell_type": "code",
      "execution_count": 53,
      "metadata": {
        "id": "dJThZwNBg7OJ"
      },
      "outputs": [],
      "source": [
        "train=[]\n",
        "for x,y in images:\n",
        "  x=x.reshape(1024,1)                           # Flattening images to provide input to network\n",
        "  feature=torch.from_numpy(x)\n",
        "  train.append((feature,int(y)))"
      ]
    },
    {
      "cell_type": "code",
      "execution_count": 54,
      "metadata": {
        "colab": {
          "base_uri": "https://localhost:8080/"
        },
        "id": "rxum16eY3bRU",
        "outputId": "b65cca0c-d2ca-4763-af15-63319e52f57c"
      },
      "outputs": [
        {
          "output_type": "execute_result",
          "data": {
            "text/plain": [
              "1000"
            ]
          },
          "metadata": {},
          "execution_count": 54
        }
      ],
      "source": [
        "len(train)                                       # Total no. of datapoints = 1000"
      ]
    },
    {
      "cell_type": "code",
      "execution_count": 23,
      "metadata": {
        "colab": {
          "base_uri": "https://localhost:8080/"
        },
        "id": "eKCCRylm0Zru",
        "outputId": "32c264f9-7403-4e9a-8ddb-1e222c9026f8"
      },
      "outputs": [
        {
          "output_type": "execute_result",
          "data": {
            "text/plain": [
              "(tensor([[255.],\n",
              "         [255.],\n",
              "         [255.],\n",
              "         ...,\n",
              "         [255.],\n",
              "         [255.],\n",
              "         [255.]]), 0)"
            ]
          },
          "metadata": {},
          "execution_count": 23
        }
      ],
      "source": [
        "train[0]"
      ]
    },
    {
      "cell_type": "code",
      "execution_count": 55,
      "metadata": {
        "id": "TsyHh1LVh_0L"
      },
      "outputs": [],
      "source": [
        "training, test = random_split(train, [800, 200])                  # 4:1 train test split"
      ]
    },
    {
      "cell_type": "code",
      "execution_count": 25,
      "metadata": {
        "id": "ADEG0pgBCIyu",
        "colab": {
          "base_uri": "https://localhost:8080/"
        },
        "outputId": "95d2537d-1e37-4937-aadb-958018398fd4"
      },
      "outputs": [
        {
          "output_type": "execute_result",
          "data": {
            "text/plain": [
              "800"
            ]
          },
          "metadata": {},
          "execution_count": 25
        }
      ],
      "source": [
        "len(training)"
      ]
    },
    {
      "cell_type": "code",
      "execution_count": 56,
      "metadata": {
        "id": "RWxlfYVZ-w9B"
      },
      "outputs": [],
      "source": [
        "trainset = torch.utils.data.DataLoader(training, 2, shuffle=True)  # Shuffling data after each epoch\n",
        "testset = torch.utils.data.DataLoader(test, 2, shuffle=False)"
      ]
    },
    {
      "cell_type": "code",
      "execution_count": null,
      "metadata": {
        "id": "WvnQQtyZ1yUg"
      },
      "outputs": [],
      "source": [
        "class net(nn.Module):\n",
        "  def __init__(self):\n",
        "    super().__init__()\n",
        "    self.fc1=nn.Linear(1024,64)        \n",
        "    self.fc2=nn.Linear(64,64)\n",
        "    self.fc3=nn.Linear(64,10)                      # 2 hidden layers\n",
        "\n",
        "  def forward(self,input):\n",
        "    out=input.view(input.size(0),-1)\n",
        "    out = self.fc1(out)\n",
        "    out = F.relu(out)                              # Using Relu as activation function\n",
        "    out = self.fc2(out)\n",
        "    out = F.relu(out)\n",
        "    out = self.fc3(out)\n",
        "    return F.log_softmax(out, dim=1)\n",
        "neural=net()"
      ]
    },
    {
      "cell_type": "markdown",
      "metadata": {
        "id": "iuDvfRz330WK"
      },
      "source": [
        "## ***Without regularization***"
      ]
    },
    {
      "cell_type": "code",
      "execution_count": null,
      "metadata": {
        "id": "ob5j_bQW5mFR"
      },
      "outputs": [],
      "source": [
        "optimizer = optim.Adam(neural.parameters(), lr=0.001)             # Adam is used as regularizer\n",
        "loss_fx=nn.CrossEntropyLoss()"
      ]
    },
    {
      "cell_type": "code",
      "execution_count": null,
      "metadata": {
        "id": "1BQ8cP171yOi"
      },
      "outputs": [],
      "source": [
        "for epoch in range(9):                        \n",
        "  for x,y in trainset:\n",
        "       neural.zero_grad()\n",
        "       output=neural(x)\n",
        "       loss = loss_fx(output, y) \n",
        "       loss.backward()\n",
        "       optimizer.step() \n",
        "       "
      ]
    },
    {
      "cell_type": "code",
      "execution_count": null,
      "metadata": {
        "colab": {
          "base_uri": "https://localhost:8080/"
        },
        "id": "HXqxpVz51yMG",
        "outputId": "57687e64-f07f-4e9e-883d-80237d2030f6"
      },
      "outputs": [
        {
          "output_type": "stream",
          "name": "stdout",
          "text": [
            "Accuracy:  0.9\n"
          ]
        }
      ],
      "source": [
        "correct=0\n",
        "with torch.no_grad():\n",
        "    for data in trainset:                               # Accuracy on test set\n",
        "        X, y = data\n",
        "        output = neural(X)\n",
        "        for idx, i in enumerate(output):\n",
        "            if torch.argmax(i) == y[idx]:\n",
        "                correct = correct + 1\n",
        "print(\"Accuracy: \", round(correct/800, 3))"
      ]
    },
    {
      "cell_type": "code",
      "source": [
        "correct=0\n",
        "with torch.no_grad():\n",
        "    for data in testset:                              \n",
        "        X, y = data\n",
        "        output = neural(X)                                    # Accuracy on testset\n",
        "        for idx, i in enumerate(output):\n",
        "            if torch.argmax(i) == y[idx]:\n",
        "                correct = correct + 1\n",
        "print(\"Accuracy: \", round(correct/200, 3))"
      ],
      "metadata": {
        "colab": {
          "base_uri": "https://localhost:8080/"
        },
        "id": "LafCegZMu6Ur",
        "outputId": "286ba714-5927-4422-debc-4cb7f1020e7c"
      },
      "execution_count": null,
      "outputs": [
        {
          "output_type": "stream",
          "name": "stdout",
          "text": [
            "Accuracy:  0.88\n"
          ]
        }
      ]
    },
    {
      "cell_type": "markdown",
      "metadata": {
        "id": "wuP1RQxsC-py"
      },
      "source": [
        "## ***Using L1 Regularization***"
      ]
    },
    {
      "cell_type": "code",
      "execution_count": null,
      "metadata": {
        "id": "nx-k3yG31yJs"
      },
      "outputs": [],
      "source": [
        "for epoch in range(9):                        \n",
        "  for x,y in trainset:\n",
        "       neural.zero_grad()\n",
        "       output=neural(x)\n",
        "       l1_norm = sum(p.abs().sum() for p in neural.parameters())    # Taking L1 norm of all parameters\n",
        "       loss = loss_fx(output, y)  + l1_norm*0.001\n",
        "       loss.backward()\n",
        "       optimizer.step() "
      ]
    },
    {
      "cell_type": "code",
      "source": [
        "correct=0\n",
        "with torch.no_grad():\n",
        "    for data in testset:                              \n",
        "        X, y = data\n",
        "        output = neural(X)\n",
        "        for idx, i in enumerate(output):            # Accuracy increased after using L1 regularization\n",
        "            if torch.argmax(i) == y[idx]:\n",
        "                correct = correct + 1\n",
        "print(\"Accuracy: \", round(correct/200, 3))"
      ],
      "metadata": {
        "colab": {
          "base_uri": "https://localhost:8080/"
        },
        "id": "mVH9oY_Jv3dw",
        "outputId": "2a5174fa-501e-43cd-8b70-4e4f4ce51244"
      },
      "execution_count": null,
      "outputs": [
        {
          "output_type": "stream",
          "name": "stdout",
          "text": [
            "Accuracy:  0.885\n"
          ]
        }
      ]
    },
    {
      "cell_type": "markdown",
      "metadata": {
        "id": "ilPYmMptMCrQ"
      },
      "source": [
        "## ***Using L2 Regularization***"
      ]
    },
    {
      "cell_type": "code",
      "execution_count": null,
      "metadata": {
        "id": "uFRtm0UzM_y_"
      },
      "outputs": [],
      "source": [
        "import math\n",
        "l2_sum=0"
      ]
    },
    {
      "cell_type": "code",
      "execution_count": null,
      "metadata": {
        "id": "y6mWVqVNMEdX"
      },
      "outputs": [],
      "source": [
        "for epoch in range(9):                        \n",
        "  for x,y in trainset:\n",
        "       neural.zero_grad()\n",
        "       output=neural(x)\n",
        "       l2_norm = sum(torch.linalg.norm(p, 2) for p in neural.parameters())\n",
        "       loss = loss_fx(output, y)  + l2_norm*0.001\n",
        "       loss.backward()\n",
        "       optimizer.step() "
      ]
    },
    {
      "cell_type": "code",
      "execution_count": null,
      "metadata": {
        "colab": {
          "base_uri": "https://localhost:8080/"
        },
        "id": "Nwfjztvr1yE6",
        "outputId": "8fb57396-a0a4-4905-b3bd-4314ea710c83"
      },
      "outputs": [
        {
          "output_type": "stream",
          "name": "stdout",
          "text": [
            "Accuracy:  0.95\n"
          ]
        }
      ],
      "source": [
        "correct=0\n",
        "with torch.no_grad():\n",
        "    for data in testset:                              \n",
        "        X, y = data                              # Accuracy  increased significantly on using L2 regularization on test set\n",
        "        output = neural(X)\n",
        "        for idx, i in enumerate(output):\n",
        "            if torch.argmax(i) == y[idx]:\n",
        "                correct = correct + 1\n",
        "print(\"Accuracy: \", round(correct/200, 3))"
      ]
    },
    {
      "cell_type": "markdown",
      "metadata": {
        "id": "WRYAgDFt1yCP"
      },
      "source": [
        "## ***Using Dropout***"
      ]
    },
    {
      "cell_type": "code",
      "execution_count": 57,
      "metadata": {
        "id": "lGOm3slG1x_x"
      },
      "outputs": [],
      "source": [
        "class net_Drop(nn.Module):\n",
        "  def __init__(self):\n",
        "    super().__init__()\n",
        "    self.fc1=nn.Linear(1024,64)        \n",
        "    self.fc2=nn.Linear(64,64)\n",
        "    self.fc3=nn.Linear(64,10)\n",
        "    self.dropout=nn.Dropout(p=0.01,inplace=False)\n",
        "\n",
        "  def forward(self,input):\n",
        "    out=input.view(input.size(0),-1)\n",
        "    out = self.fc1(out)\n",
        "    out = self.dropout(F.relu(out))\n",
        "    out = self.fc2(out)\n",
        "    out = self.dropout(F.relu(out))\n",
        "    out = self.fc3(out)\n",
        "    return F.log_softmax(out, dim=1)\n",
        "neural_Drop=net_Drop()"
      ]
    },
    {
      "cell_type": "code",
      "source": [
        "optimizerD = optim.Adam(neural_Drop.parameters(), lr=0.001) \n",
        "loss_fx=nn.CrossEntropyLoss()"
      ],
      "metadata": {
        "id": "kAGjiF8VxOoS"
      },
      "execution_count": 58,
      "outputs": []
    },
    {
      "cell_type": "code",
      "execution_count": 59,
      "metadata": {
        "id": "oNxCaplH1x9M"
      },
      "outputs": [],
      "source": [
        "for epoch in range(9):                        \n",
        "  for x,y in trainset:\n",
        "       neural_Drop.zero_grad()\n",
        "       output=neural_Drop(x)\n",
        "       loss = loss_fx(output, y) \n",
        "       loss.backward()\n",
        "       optimizerD.step() "
      ]
    },
    {
      "cell_type": "code",
      "execution_count": 35,
      "metadata": {
        "colab": {
          "base_uri": "https://localhost:8080/"
        },
        "id": "VYV6MMO71x60",
        "outputId": "893259ab-f142-4b98-90ce-bbf947ea04c8"
      },
      "outputs": [
        {
          "output_type": "stream",
          "name": "stdout",
          "text": [
            "Accuracy:  0.325\n"
          ]
        }
      ],
      "source": [
        "correct=0\n",
        "with torch.no_grad():\n",
        "    for data in testset:                              \n",
        "        X, y = data\n",
        "        output = neural_Drop(X)\n",
        "        for idx, i in enumerate(output):\n",
        "            if torch.argmax(i) == y[idx]:\n",
        "                correct = correct + 1\n",
        "print(\"Accuracy: \", round(correct/200, 3))"
      ]
    }
  ],
  "metadata": {
    "colab": {
      "provenance": []
    },
    "kernelspec": {
      "display_name": "Python 3",
      "name": "python3"
    },
    "language_info": {
      "name": "python"
    },
    "widgets": {
      "application/vnd.jupyter.widget-state+json": {
        "f700b5b490fd4318a67abd2398e6b340": {
          "model_module": "@jupyter-widgets/controls",
          "model_name": "HBoxModel",
          "model_module_version": "1.5.0",
          "state": {
            "_dom_classes": [],
            "_model_module": "@jupyter-widgets/controls",
            "_model_module_version": "1.5.0",
            "_model_name": "HBoxModel",
            "_view_count": null,
            "_view_module": "@jupyter-widgets/controls",
            "_view_module_version": "1.5.0",
            "_view_name": "HBoxView",
            "box_style": "",
            "children": [
              "IPY_MODEL_ada450e23af1440f82c0dcf5f9f7dadf",
              "IPY_MODEL_086491f31fed47c99f0f7313a1ddc1e5",
              "IPY_MODEL_4fe9a5180b5f4c878b8b1d965a7fdd62"
            ],
            "layout": "IPY_MODEL_269dd5de40cb44e8846474cb030c328a"
          }
        },
        "ada450e23af1440f82c0dcf5f9f7dadf": {
          "model_module": "@jupyter-widgets/controls",
          "model_name": "HTMLModel",
          "model_module_version": "1.5.0",
          "state": {
            "_dom_classes": [],
            "_model_module": "@jupyter-widgets/controls",
            "_model_module_version": "1.5.0",
            "_model_name": "HTMLModel",
            "_view_count": null,
            "_view_module": "@jupyter-widgets/controls",
            "_view_module_version": "1.5.0",
            "_view_name": "HTMLView",
            "description": "",
            "description_tooltip": null,
            "layout": "IPY_MODEL_9bc9d5d7f6044428b741b53aece40d8c",
            "placeholder": "​",
            "style": "IPY_MODEL_26e25c23335a49ac95ffc788ff08d733",
            "value": "100%"
          }
        },
        "086491f31fed47c99f0f7313a1ddc1e5": {
          "model_module": "@jupyter-widgets/controls",
          "model_name": "FloatProgressModel",
          "model_module_version": "1.5.0",
          "state": {
            "_dom_classes": [],
            "_model_module": "@jupyter-widgets/controls",
            "_model_module_version": "1.5.0",
            "_model_name": "FloatProgressModel",
            "_view_count": null,
            "_view_module": "@jupyter-widgets/controls",
            "_view_module_version": "1.5.0",
            "_view_name": "ProgressView",
            "bar_style": "success",
            "description": "",
            "description_tooltip": null,
            "layout": "IPY_MODEL_3a9bb7583aea4320b08731407064fa7b",
            "max": 170498071,
            "min": 0,
            "orientation": "horizontal",
            "style": "IPY_MODEL_da4a2c2d3ab1432ea0050581afa28e3b",
            "value": 170498071
          }
        },
        "4fe9a5180b5f4c878b8b1d965a7fdd62": {
          "model_module": "@jupyter-widgets/controls",
          "model_name": "HTMLModel",
          "model_module_version": "1.5.0",
          "state": {
            "_dom_classes": [],
            "_model_module": "@jupyter-widgets/controls",
            "_model_module_version": "1.5.0",
            "_model_name": "HTMLModel",
            "_view_count": null,
            "_view_module": "@jupyter-widgets/controls",
            "_view_module_version": "1.5.0",
            "_view_name": "HTMLView",
            "description": "",
            "description_tooltip": null,
            "layout": "IPY_MODEL_afd451ed2de14938acf8c7482090499e",
            "placeholder": "​",
            "style": "IPY_MODEL_cd8fc5753c124f06bb50efdcb36fb563",
            "value": " 170498071/170498071 [00:02&lt;00:00, 75639095.13it/s]"
          }
        },
        "269dd5de40cb44e8846474cb030c328a": {
          "model_module": "@jupyter-widgets/base",
          "model_name": "LayoutModel",
          "model_module_version": "1.2.0",
          "state": {
            "_model_module": "@jupyter-widgets/base",
            "_model_module_version": "1.2.0",
            "_model_name": "LayoutModel",
            "_view_count": null,
            "_view_module": "@jupyter-widgets/base",
            "_view_module_version": "1.2.0",
            "_view_name": "LayoutView",
            "align_content": null,
            "align_items": null,
            "align_self": null,
            "border": null,
            "bottom": null,
            "display": null,
            "flex": null,
            "flex_flow": null,
            "grid_area": null,
            "grid_auto_columns": null,
            "grid_auto_flow": null,
            "grid_auto_rows": null,
            "grid_column": null,
            "grid_gap": null,
            "grid_row": null,
            "grid_template_areas": null,
            "grid_template_columns": null,
            "grid_template_rows": null,
            "height": null,
            "justify_content": null,
            "justify_items": null,
            "left": null,
            "margin": null,
            "max_height": null,
            "max_width": null,
            "min_height": null,
            "min_width": null,
            "object_fit": null,
            "object_position": null,
            "order": null,
            "overflow": null,
            "overflow_x": null,
            "overflow_y": null,
            "padding": null,
            "right": null,
            "top": null,
            "visibility": null,
            "width": null
          }
        },
        "9bc9d5d7f6044428b741b53aece40d8c": {
          "model_module": "@jupyter-widgets/base",
          "model_name": "LayoutModel",
          "model_module_version": "1.2.0",
          "state": {
            "_model_module": "@jupyter-widgets/base",
            "_model_module_version": "1.2.0",
            "_model_name": "LayoutModel",
            "_view_count": null,
            "_view_module": "@jupyter-widgets/base",
            "_view_module_version": "1.2.0",
            "_view_name": "LayoutView",
            "align_content": null,
            "align_items": null,
            "align_self": null,
            "border": null,
            "bottom": null,
            "display": null,
            "flex": null,
            "flex_flow": null,
            "grid_area": null,
            "grid_auto_columns": null,
            "grid_auto_flow": null,
            "grid_auto_rows": null,
            "grid_column": null,
            "grid_gap": null,
            "grid_row": null,
            "grid_template_areas": null,
            "grid_template_columns": null,
            "grid_template_rows": null,
            "height": null,
            "justify_content": null,
            "justify_items": null,
            "left": null,
            "margin": null,
            "max_height": null,
            "max_width": null,
            "min_height": null,
            "min_width": null,
            "object_fit": null,
            "object_position": null,
            "order": null,
            "overflow": null,
            "overflow_x": null,
            "overflow_y": null,
            "padding": null,
            "right": null,
            "top": null,
            "visibility": null,
            "width": null
          }
        },
        "26e25c23335a49ac95ffc788ff08d733": {
          "model_module": "@jupyter-widgets/controls",
          "model_name": "DescriptionStyleModel",
          "model_module_version": "1.5.0",
          "state": {
            "_model_module": "@jupyter-widgets/controls",
            "_model_module_version": "1.5.0",
            "_model_name": "DescriptionStyleModel",
            "_view_count": null,
            "_view_module": "@jupyter-widgets/base",
            "_view_module_version": "1.2.0",
            "_view_name": "StyleView",
            "description_width": ""
          }
        },
        "3a9bb7583aea4320b08731407064fa7b": {
          "model_module": "@jupyter-widgets/base",
          "model_name": "LayoutModel",
          "model_module_version": "1.2.0",
          "state": {
            "_model_module": "@jupyter-widgets/base",
            "_model_module_version": "1.2.0",
            "_model_name": "LayoutModel",
            "_view_count": null,
            "_view_module": "@jupyter-widgets/base",
            "_view_module_version": "1.2.0",
            "_view_name": "LayoutView",
            "align_content": null,
            "align_items": null,
            "align_self": null,
            "border": null,
            "bottom": null,
            "display": null,
            "flex": null,
            "flex_flow": null,
            "grid_area": null,
            "grid_auto_columns": null,
            "grid_auto_flow": null,
            "grid_auto_rows": null,
            "grid_column": null,
            "grid_gap": null,
            "grid_row": null,
            "grid_template_areas": null,
            "grid_template_columns": null,
            "grid_template_rows": null,
            "height": null,
            "justify_content": null,
            "justify_items": null,
            "left": null,
            "margin": null,
            "max_height": null,
            "max_width": null,
            "min_height": null,
            "min_width": null,
            "object_fit": null,
            "object_position": null,
            "order": null,
            "overflow": null,
            "overflow_x": null,
            "overflow_y": null,
            "padding": null,
            "right": null,
            "top": null,
            "visibility": null,
            "width": null
          }
        },
        "da4a2c2d3ab1432ea0050581afa28e3b": {
          "model_module": "@jupyter-widgets/controls",
          "model_name": "ProgressStyleModel",
          "model_module_version": "1.5.0",
          "state": {
            "_model_module": "@jupyter-widgets/controls",
            "_model_module_version": "1.5.0",
            "_model_name": "ProgressStyleModel",
            "_view_count": null,
            "_view_module": "@jupyter-widgets/base",
            "_view_module_version": "1.2.0",
            "_view_name": "StyleView",
            "bar_color": null,
            "description_width": ""
          }
        },
        "afd451ed2de14938acf8c7482090499e": {
          "model_module": "@jupyter-widgets/base",
          "model_name": "LayoutModel",
          "model_module_version": "1.2.0",
          "state": {
            "_model_module": "@jupyter-widgets/base",
            "_model_module_version": "1.2.0",
            "_model_name": "LayoutModel",
            "_view_count": null,
            "_view_module": "@jupyter-widgets/base",
            "_view_module_version": "1.2.0",
            "_view_name": "LayoutView",
            "align_content": null,
            "align_items": null,
            "align_self": null,
            "border": null,
            "bottom": null,
            "display": null,
            "flex": null,
            "flex_flow": null,
            "grid_area": null,
            "grid_auto_columns": null,
            "grid_auto_flow": null,
            "grid_auto_rows": null,
            "grid_column": null,
            "grid_gap": null,
            "grid_row": null,
            "grid_template_areas": null,
            "grid_template_columns": null,
            "grid_template_rows": null,
            "height": null,
            "justify_content": null,
            "justify_items": null,
            "left": null,
            "margin": null,
            "max_height": null,
            "max_width": null,
            "min_height": null,
            "min_width": null,
            "object_fit": null,
            "object_position": null,
            "order": null,
            "overflow": null,
            "overflow_x": null,
            "overflow_y": null,
            "padding": null,
            "right": null,
            "top": null,
            "visibility": null,
            "width": null
          }
        },
        "cd8fc5753c124f06bb50efdcb36fb563": {
          "model_module": "@jupyter-widgets/controls",
          "model_name": "DescriptionStyleModel",
          "model_module_version": "1.5.0",
          "state": {
            "_model_module": "@jupyter-widgets/controls",
            "_model_module_version": "1.5.0",
            "_model_name": "DescriptionStyleModel",
            "_view_count": null,
            "_view_module": "@jupyter-widgets/base",
            "_view_module_version": "1.2.0",
            "_view_name": "StyleView",
            "description_width": ""
          }
        }
      }
    }
  },
  "nbformat": 4,
  "nbformat_minor": 0
}